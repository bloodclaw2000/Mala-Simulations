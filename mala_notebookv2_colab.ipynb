{
  "cells": [
    {
      "cell_type": "markdown",
      "metadata": {
        "id": "view-in-github",
        "colab_type": "text"
      },
      "source": [
        "<a href=\"https://colab.research.google.com/github/bloodclaw2000/Mala-Simulations/blob/main/mala_notebookv2_colab.ipynb\" target=\"_parent\"><img src=\"https://colab.research.google.com/assets/colab-badge.svg\" alt=\"Open In Colab\"/></a>"
      ]
    },
    {
      "cell_type": "markdown",
      "id": "38147656-ce2d-468b-a265-b5f0fbbade21",
      "metadata": {
        "id": "38147656-ce2d-468b-a265-b5f0fbbade21"
      },
      "source": [
        "IF NEEDED INSTALL MALA (works in Colab). Install Pytorch from webpage instructions (not needed in COLAB)\n",
        "\n",
        "You can also change runtime type to GPU in Runtime tab"
      ]
    },
    {
      "cell_type": "code",
      "execution_count": 1,
      "id": "a04f10eb-13a0-4aa4-817c-acaa1176d77c",
      "metadata": {
        "colab": {
          "base_uri": "https://localhost:8080/"
        },
        "id": "a04f10eb-13a0-4aa4-817c-acaa1176d77c",
        "outputId": "97d70976-18b4-402c-ca17-90e991ff74fc"
      },
      "outputs": [
        {
          "output_type": "stream",
          "name": "stdout",
          "text": [
            "Cloning into 'mala'...\n",
            "remote: Enumerating objects: 21807, done.\u001b[K\n",
            "remote: Counting objects: 100% (4112/4112), done.\u001b[K\n",
            "remote: Compressing objects: 100% (1041/1041), done.\u001b[K\n",
            "remote: Total 21807 (delta 3091), reused 3901 (delta 3049), pack-reused 17695\u001b[K\n",
            "Receiving objects: 100% (21807/21807), 56.98 MiB | 15.53 MiB/s, done.\n",
            "Resolving deltas: 100% (16249/16249), done.\n",
            "/content/mala\n",
            "Processing /content/mala\n",
            "  Installing build dependencies ... \u001b[?25l\u001b[?25hdone\n",
            "  Getting requirements to build wheel ... \u001b[?25l\u001b[?25hdone\n",
            "  Installing backend dependencies ... \u001b[?25l\u001b[?25hdone\n",
            "  Preparing metadata (pyproject.toml) ... \u001b[?25l\u001b[?25hdone\n",
            "Collecting ase (from materials-learning-algorithms==1.2.1)\n",
            "  Downloading ase-3.22.1-py3-none-any.whl (2.2 MB)\n",
            "\u001b[2K     \u001b[90m━━━━━━━━━━━━━━━━━━━━━━━━━━━━━━━━━━━━━━━━\u001b[0m \u001b[32m2.2/2.2 MB\u001b[0m \u001b[31m9.0 MB/s\u001b[0m eta \u001b[36m0:00:00\u001b[0m\n",
            "\u001b[?25hRequirement already satisfied: mpmath in /usr/local/lib/python3.10/dist-packages (from materials-learning-algorithms==1.2.1) (1.3.0)\n",
            "Requirement already satisfied: numpy in /usr/local/lib/python3.10/dist-packages (from materials-learning-algorithms==1.2.1) (1.25.2)\n",
            "Collecting optuna (from materials-learning-algorithms==1.2.1)\n",
            "  Downloading optuna-3.6.1-py3-none-any.whl (380 kB)\n",
            "\u001b[2K     \u001b[90m━━━━━━━━━━━━━━━━━━━━━━━━━━━━━━━━━━━━━━━━\u001b[0m \u001b[32m380.1/380.1 kB\u001b[0m \u001b[31m12.4 MB/s\u001b[0m eta \u001b[36m0:00:00\u001b[0m\n",
            "\u001b[?25hRequirement already satisfied: scipy in /usr/local/lib/python3.10/dist-packages (from materials-learning-algorithms==1.2.1) (1.11.4)\n",
            "Requirement already satisfied: pandas in /usr/local/lib/python3.10/dist-packages (from materials-learning-algorithms==1.2.1) (2.0.3)\n",
            "Requirement already satisfied: tensorboard in /usr/local/lib/python3.10/dist-packages (from materials-learning-algorithms==1.2.1) (2.15.2)\n",
            "Collecting openpmd-api>=0.15 (from materials-learning-algorithms==1.2.1)\n",
            "  Downloading openPMD_api-0.15.2-cp310-cp310-manylinux_2_17_x86_64.manylinux2014_x86_64.whl (6.7 MB)\n",
            "\u001b[2K     \u001b[90m━━━━━━━━━━━━━━━━━━━━━━━━━━━━━━━━━━━━━━━━\u001b[0m \u001b[32m6.7/6.7 MB\u001b[0m \u001b[31m21.2 MB/s\u001b[0m eta \u001b[36m0:00:00\u001b[0m\n",
            "\u001b[?25hCollecting scikit-spatial (from materials-learning-algorithms==1.2.1)\n",
            "  Downloading scikit_spatial-7.2.0-py3-none-any.whl (49 kB)\n",
            "\u001b[2K     \u001b[90m━━━━━━━━━━━━━━━━━━━━━━━━━━━━━━━━━━━━━━━━\u001b[0m \u001b[32m49.1/49.1 kB\u001b[0m \u001b[31m6.9 MB/s\u001b[0m eta \u001b[36m0:00:00\u001b[0m\n",
            "\u001b[?25hRequirement already satisfied: matplotlib>=3.1.0 in /usr/local/lib/python3.10/dist-packages (from ase->materials-learning-algorithms==1.2.1) (3.7.1)\n",
            "Collecting alembic>=1.5.0 (from optuna->materials-learning-algorithms==1.2.1)\n",
            "  Downloading alembic-1.13.1-py3-none-any.whl (233 kB)\n",
            "\u001b[2K     \u001b[90m━━━━━━━━━━━━━━━━━━━━━━━━━━━━━━━━━━━━━━━━\u001b[0m \u001b[32m233.4/233.4 kB\u001b[0m \u001b[31m26.5 MB/s\u001b[0m eta \u001b[36m0:00:00\u001b[0m\n",
            "\u001b[?25hCollecting colorlog (from optuna->materials-learning-algorithms==1.2.1)\n",
            "  Downloading colorlog-6.8.2-py3-none-any.whl (11 kB)\n",
            "Requirement already satisfied: packaging>=20.0 in /usr/local/lib/python3.10/dist-packages (from optuna->materials-learning-algorithms==1.2.1) (24.0)\n",
            "Requirement already satisfied: sqlalchemy>=1.3.0 in /usr/local/lib/python3.10/dist-packages (from optuna->materials-learning-algorithms==1.2.1) (2.0.29)\n",
            "Requirement already satisfied: tqdm in /usr/local/lib/python3.10/dist-packages (from optuna->materials-learning-algorithms==1.2.1) (4.66.4)\n",
            "Requirement already satisfied: PyYAML in /usr/local/lib/python3.10/dist-packages (from optuna->materials-learning-algorithms==1.2.1) (6.0.1)\n",
            "Requirement already satisfied: python-dateutil>=2.8.2 in /usr/local/lib/python3.10/dist-packages (from pandas->materials-learning-algorithms==1.2.1) (2.8.2)\n",
            "Requirement already satisfied: pytz>=2020.1 in /usr/local/lib/python3.10/dist-packages (from pandas->materials-learning-algorithms==1.2.1) (2023.4)\n",
            "Requirement already satisfied: tzdata>=2022.1 in /usr/local/lib/python3.10/dist-packages (from pandas->materials-learning-algorithms==1.2.1) (2024.1)\n",
            "Requirement already satisfied: absl-py>=0.4 in /usr/local/lib/python3.10/dist-packages (from tensorboard->materials-learning-algorithms==1.2.1) (1.4.0)\n",
            "Requirement already satisfied: grpcio>=1.48.2 in /usr/local/lib/python3.10/dist-packages (from tensorboard->materials-learning-algorithms==1.2.1) (1.63.0)\n",
            "Requirement already satisfied: google-auth<3,>=1.6.3 in /usr/local/lib/python3.10/dist-packages (from tensorboard->materials-learning-algorithms==1.2.1) (2.27.0)\n",
            "Requirement already satisfied: google-auth-oauthlib<2,>=0.5 in /usr/local/lib/python3.10/dist-packages (from tensorboard->materials-learning-algorithms==1.2.1) (1.2.0)\n",
            "Requirement already satisfied: markdown>=2.6.8 in /usr/local/lib/python3.10/dist-packages (from tensorboard->materials-learning-algorithms==1.2.1) (3.6)\n",
            "Requirement already satisfied: protobuf!=4.24.0,>=3.19.6 in /usr/local/lib/python3.10/dist-packages (from tensorboard->materials-learning-algorithms==1.2.1) (3.20.3)\n",
            "Requirement already satisfied: requests<3,>=2.21.0 in /usr/local/lib/python3.10/dist-packages (from tensorboard->materials-learning-algorithms==1.2.1) (2.31.0)\n",
            "Requirement already satisfied: setuptools>=41.0.0 in /usr/local/lib/python3.10/dist-packages (from tensorboard->materials-learning-algorithms==1.2.1) (67.7.2)\n",
            "Requirement already satisfied: six>1.9 in /usr/local/lib/python3.10/dist-packages (from tensorboard->materials-learning-algorithms==1.2.1) (1.16.0)\n",
            "Requirement already satisfied: tensorboard-data-server<0.8.0,>=0.7.0 in /usr/local/lib/python3.10/dist-packages (from tensorboard->materials-learning-algorithms==1.2.1) (0.7.2)\n",
            "Requirement already satisfied: werkzeug>=1.0.1 in /usr/local/lib/python3.10/dist-packages (from tensorboard->materials-learning-algorithms==1.2.1) (3.0.2)\n",
            "Collecting Mako (from alembic>=1.5.0->optuna->materials-learning-algorithms==1.2.1)\n",
            "  Downloading Mako-1.3.3-py3-none-any.whl (78 kB)\n",
            "\u001b[2K     \u001b[90m━━━━━━━━━━━━━━━━━━━━━━━━━━━━━━━━━━━━━━━━\u001b[0m \u001b[32m78.8/78.8 kB\u001b[0m \u001b[31m12.2 MB/s\u001b[0m eta \u001b[36m0:00:00\u001b[0m\n",
            "\u001b[?25hRequirement already satisfied: typing-extensions>=4 in /usr/local/lib/python3.10/dist-packages (from alembic>=1.5.0->optuna->materials-learning-algorithms==1.2.1) (4.11.0)\n",
            "Requirement already satisfied: cachetools<6.0,>=2.0.0 in /usr/local/lib/python3.10/dist-packages (from google-auth<3,>=1.6.3->tensorboard->materials-learning-algorithms==1.2.1) (5.3.3)\n",
            "Requirement already satisfied: pyasn1-modules>=0.2.1 in /usr/local/lib/python3.10/dist-packages (from google-auth<3,>=1.6.3->tensorboard->materials-learning-algorithms==1.2.1) (0.4.0)\n",
            "Requirement already satisfied: rsa<5,>=3.1.4 in /usr/local/lib/python3.10/dist-packages (from google-auth<3,>=1.6.3->tensorboard->materials-learning-algorithms==1.2.1) (4.9)\n",
            "Requirement already satisfied: requests-oauthlib>=0.7.0 in /usr/local/lib/python3.10/dist-packages (from google-auth-oauthlib<2,>=0.5->tensorboard->materials-learning-algorithms==1.2.1) (1.3.1)\n",
            "Requirement already satisfied: contourpy>=1.0.1 in /usr/local/lib/python3.10/dist-packages (from matplotlib>=3.1.0->ase->materials-learning-algorithms==1.2.1) (1.2.1)\n",
            "Requirement already satisfied: cycler>=0.10 in /usr/local/lib/python3.10/dist-packages (from matplotlib>=3.1.0->ase->materials-learning-algorithms==1.2.1) (0.12.1)\n",
            "Requirement already satisfied: fonttools>=4.22.0 in /usr/local/lib/python3.10/dist-packages (from matplotlib>=3.1.0->ase->materials-learning-algorithms==1.2.1) (4.51.0)\n",
            "Requirement already satisfied: kiwisolver>=1.0.1 in /usr/local/lib/python3.10/dist-packages (from matplotlib>=3.1.0->ase->materials-learning-algorithms==1.2.1) (1.4.5)\n",
            "Requirement already satisfied: pillow>=6.2.0 in /usr/local/lib/python3.10/dist-packages (from matplotlib>=3.1.0->ase->materials-learning-algorithms==1.2.1) (9.4.0)\n",
            "Requirement already satisfied: pyparsing>=2.3.1 in /usr/local/lib/python3.10/dist-packages (from matplotlib>=3.1.0->ase->materials-learning-algorithms==1.2.1) (3.1.2)\n",
            "Requirement already satisfied: charset-normalizer<4,>=2 in /usr/local/lib/python3.10/dist-packages (from requests<3,>=2.21.0->tensorboard->materials-learning-algorithms==1.2.1) (3.3.2)\n",
            "Requirement already satisfied: idna<4,>=2.5 in /usr/local/lib/python3.10/dist-packages (from requests<3,>=2.21.0->tensorboard->materials-learning-algorithms==1.2.1) (3.7)\n",
            "Requirement already satisfied: urllib3<3,>=1.21.1 in /usr/local/lib/python3.10/dist-packages (from requests<3,>=2.21.0->tensorboard->materials-learning-algorithms==1.2.1) (2.0.7)\n",
            "Requirement already satisfied: certifi>=2017.4.17 in /usr/local/lib/python3.10/dist-packages (from requests<3,>=2.21.0->tensorboard->materials-learning-algorithms==1.2.1) (2024.2.2)\n",
            "Requirement already satisfied: greenlet!=0.4.17 in /usr/local/lib/python3.10/dist-packages (from sqlalchemy>=1.3.0->optuna->materials-learning-algorithms==1.2.1) (3.0.3)\n",
            "Requirement already satisfied: MarkupSafe>=2.1.1 in /usr/local/lib/python3.10/dist-packages (from werkzeug>=1.0.1->tensorboard->materials-learning-algorithms==1.2.1) (2.1.5)\n",
            "Requirement already satisfied: pyasn1<0.7.0,>=0.4.6 in /usr/local/lib/python3.10/dist-packages (from pyasn1-modules>=0.2.1->google-auth<3,>=1.6.3->tensorboard->materials-learning-algorithms==1.2.1) (0.6.0)\n",
            "Requirement already satisfied: oauthlib>=3.0.0 in /usr/local/lib/python3.10/dist-packages (from requests-oauthlib>=0.7.0->google-auth-oauthlib<2,>=0.5->tensorboard->materials-learning-algorithms==1.2.1) (3.2.2)\n",
            "Building wheels for collected packages: materials-learning-algorithms\n",
            "  Building wheel for materials-learning-algorithms (pyproject.toml) ... \u001b[?25l\u001b[?25hdone\n",
            "  Created wheel for materials-learning-algorithms: filename=materials_learning_algorithms-1.2.1-py3-none-any.whl size=196668 sha256=88732f29874f6e4df3e54f746e61aa0df1a1f79d9d24b45ebb492bf45c3ae398\n",
            "  Stored in directory: /tmp/pip-ephem-wheel-cache-injachlu/wheels/84/90/8e/0c21be21defd2cfea4047db8063c93acf2f32171667b25c979\n",
            "Successfully built materials-learning-algorithms\n",
            "Installing collected packages: openpmd-api, Mako, colorlog, alembic, scikit-spatial, optuna, ase, materials-learning-algorithms\n",
            "Successfully installed Mako-1.3.3 alembic-1.13.1 ase-3.22.1 colorlog-6.8.2 materials-learning-algorithms-1.2.1 openpmd-api-0.15.2 optuna-3.6.1 scikit-spatial-7.2.0\n",
            "/content/mala\n"
          ]
        }
      ],
      "source": [
        "import sys\n",
        "sys.path.insert(0, '/usr/local/lib/python3.10/dist-packages/') #We need to upgrade Python Client for some reason COLAB is py 3.6\n",
        "\n",
        "#!python -m pip install --upgrade pip\n",
        "!git clone https://github.com/mala-project/mala.git\n",
        "%cd mala\n",
        "!pip install .\n",
        "%cd ."
      ]
    },
    {
      "cell_type": "code",
      "source": [
        "%cd ..\n",
        "%ls\n"
      ],
      "metadata": {
        "colab": {
          "base_uri": "https://localhost:8080/"
        },
        "id": "0vN6T0ZsAZk5",
        "outputId": "f2f78ce7-2dc2-48d5-b742-ecc89370d263"
      },
      "id": "0vN6T0ZsAZk5",
      "execution_count": 2,
      "outputs": [
        {
          "output_type": "stream",
          "name": "stdout",
          "text": [
            "/content\n",
            "\u001b[0m\u001b[01;34mmala\u001b[0m/  \u001b[01;34msample_data\u001b[0m/\n"
          ]
        }
      ]
    },
    {
      "cell_type": "markdown",
      "source": [
        "Downloading Original QE input data (or upload your own and unzip)"
      ],
      "metadata": {
        "id": "lVUg-qbjAf87"
      },
      "id": "lVUg-qbjAf87"
    },
    {
      "cell_type": "code",
      "source": [
        "!git clone https://github.com/bloodclaw2000/Mala-Simulations.git\n",
        "%cd Mala-Simulations\n"
      ],
      "metadata": {
        "colab": {
          "base_uri": "https://localhost:8080/"
        },
        "id": "whh--kqJAfbV",
        "outputId": "5b2004f4-7612-4ce6-8e3d-69509d610f29"
      },
      "id": "whh--kqJAfbV",
      "execution_count": 3,
      "outputs": [
        {
          "output_type": "stream",
          "name": "stdout",
          "text": [
            "Cloning into 'Mala-Simulations'...\n",
            "remote: Enumerating objects: 1611, done.\u001b[K\n",
            "remote: Counting objects: 100% (46/46), done.\u001b[K\n",
            "remote: Compressing objects: 100% (25/25), done.\u001b[K\n",
            "remote: Total 1611 (delta 20), reused 38 (delta 17), pack-reused 1565\u001b[K\n",
            "Receiving objects: 100% (1611/1611), 426.60 MiB | 18.05 MiB/s, done.\n",
            "Resolving deltas: 100% (134/134), done.\n",
            "Updating files: 100% (1571/1571), done.\n",
            "/content/Mala-Simulations\n"
          ]
        }
      ]
    },
    {
      "cell_type": "code",
      "source": [
        "%cd ..\n",
        "%ls"
      ],
      "metadata": {
        "colab": {
          "base_uri": "https://localhost:8080/"
        },
        "id": "zLRg03oKBaiF",
        "outputId": "fcae1f84-c79f-4097-d8d8-8b6cde741e51"
      },
      "id": "zLRg03oKBaiF",
      "execution_count": 4,
      "outputs": [
        {
          "output_type": "stream",
          "name": "stdout",
          "text": [
            "/content\n",
            "\u001b[0m\u001b[01;34mmala\u001b[0m/  \u001b[01;34mMala-Simulations\u001b[0m/  \u001b[01;34msample_data\u001b[0m/\n"
          ]
        }
      ]
    },
    {
      "cell_type": "markdown",
      "id": "6d450e9d-7820-4c86-b370-93be94b97a54",
      "metadata": {
        "id": "6d450e9d-7820-4c86-b370-93be94b97a54"
      },
      "source": [
        "Loading the modules.  **You should go to Runtime/Restart Session if modules fail to load or any errors appear and start running from here**"
      ]
    },
    {
      "cell_type": "code",
      "execution_count": 5,
      "id": "a87a79b8-99e9-4479-852b-a40812ed25d4",
      "metadata": {
        "id": "a87a79b8-99e9-4479-852b-a40812ed25d4"
      },
      "outputs": [],
      "source": [
        "# MALA itself.\n",
        "import sys\n",
        "sys.path.insert(0, '/usr/local/lib/python3.10/dist-packages/') #We need to upgrade Python Client for some reason COLAB is py 3.6\n",
        "\n",
        "import mala\n",
        "\n",
        "# We would like to visualize simple plots.\n",
        "# The font size can sometimes be a bit small for Jupyter Notebooks.\n",
        "\n",
        "import matplotlib\n",
        "import matplotlib.pyplot as plt\n",
        "font = {'size'   : 22}\n",
        "matplotlib.rc('font', **font)\n",
        "\n",
        "# For the data paths.\n",
        "from os.path import join as pj\n",
        "\n",
        "# Only for the prediction down below.\n",
        "from ase.io import read\n",
        "\n",
        "# To do some timings down below.\n",
        "from time import time\n",
        "import numpy as np\n",
        "import mala\n",
        "import subprocess\n",
        "import ase\n",
        "import ase.io.espresso\n",
        "from ase import Atoms\n",
        "from ase.visualize import view\n",
        "import os\n",
        "from os.path import join as pj\n",
        "import matplotlib.pyplot as plt\n",
        "import re\n",
        "import random\n",
        "import time"
      ]
    },
    {
      "cell_type": "markdown",
      "id": "ab2c54cf-23b8-42e4-92aa-6ff9be8b0587",
      "metadata": {
        "id": "ab2c54cf-23b8-42e4-92aa-6ff9be8b0587"
      },
      "source": [
        "If problems with MALA, Check Pytorch Installation with"
      ]
    },
    {
      "cell_type": "code",
      "execution_count": 6,
      "id": "91ed7183-05ae-4385-90ec-63e3e1345e46",
      "metadata": {
        "id": "91ed7183-05ae-4385-90ec-63e3e1345e46"
      },
      "outputs": [],
      "source": [
        "import torch"
      ]
    },
    {
      "cell_type": "markdown",
      "id": "8551b80d-774c-45b4-8697-534d8593e594",
      "metadata": {
        "id": "8551b80d-774c-45b4-8697-534d8593e594"
      },
      "source": [
        "MALA data generation can be performed with the Quantum ESPRESSO package. Some changes to this open source package were necessary to enable the correct sampling of the LDOS. The current development branch of Quantum ESPRESSO includes those - beginning with Quantum ESPRESSO version 7.2 (to be released in ~June 2023) users can simply download the latest QE version and perform data generation.\n",
        "\n",
        "Data generation is two-fold: First, one creates a set of atomic position via a regular DFT-MD simulation at the conditions of interest. This can be done with any suitable code, such as VASP, QE, etc. Secondly, one performs DFT simulations to access the LDOS.\n",
        "\n",
        "The test system  here will be a simply beryllium system at room temperature consisting of 2 beryllium atoms. Atomic configurations have been sampled beforehand. We will start with the DFT simulation."
      ]
    },
    {
      "cell_type": "markdown",
      "id": "d2832242-7d13-47a9-a096-8be39f9e7fab",
      "metadata": {
        "id": "d2832242-7d13-47a9-a096-8be39f9e7fab"
      },
      "source": [
        "Write hundreds of lines of parameter statement in each python script is not exactly maintainable. Therefore MALA provides a .json interface.\n"
      ]
    },
    {
      "cell_type": "code",
      "execution_count": 7,
      "id": "e6065b04-078e-4756-8259-a0cb2656dc8d",
      "metadata": {
        "id": "e6065b04-078e-4756-8259-a0cb2656dc8d",
        "outputId": "a801d1ff-e056-49d2-9bf6-e8f31b263e5e",
        "colab": {
          "base_uri": "https://localhost:8080/"
        }
      },
      "outputs": [
        {
          "output_type": "stream",
          "name": "stderr",
          "text": [
            "/usr/local/lib/python3.10/dist-packages/mala/common/parallelizer.py:262: UserWarning: GPU requested, but no GPU found. MALA will operate with CPU only.\n",
            "  warnings.warn(warning, category=category)\n"
          ]
        }
      ],
      "source": [
        "parameters = mala.Parameters.load_from_file(r\"/content/Mala-Simulations/mala_parameters_01.json\")"
      ]
    },
    {
      "cell_type": "code",
      "execution_count": 8,
      "id": "27c2d76e-b9f8-4511-9604-99414dc6c408",
      "metadata": {
        "colab": {
          "base_uri": "https://localhost:8080/"
        },
        "id": "27c2d76e-b9f8-4511-9604-99414dc6c408",
        "outputId": "849578fe-0ac8-41ce-84a9-ac47039baf20"
      },
      "outputs": [
        {
          "output_type": "stream",
          "name": "stdout",
          "text": [
            "---     All parameter MALA needs to perform its various tasks. ---\n",
            "comment        : My first parameters.\n",
            "manual_seed    : None\n",
            "use_gpu        : False\n",
            "device         : cpu\n",
            "use_horovod    : False\n",
            "use_mpi        : False\n",
            "verbosity      : 1\n",
            "openpmd_configuration: {}\n",
            "openpmd_granularity: 1\n",
            "use_lammps     : True\n",
            "---     Parameters necessary for constructing a neural network. ---\n",
            "\tnn_type        : feed-forward\n",
            "\tlayer_sizes    : [10, 10, 10]\n",
            "\tlayer_activations: ['Sigmoid']\n",
            "\tloss_function_type: mse\n",
            "\tnum_hidden_layers: 1\n",
            "\tno_hidden_state: False\n",
            "\tbidirection    : False\n",
            "\tdropout        : 0.1\n",
            "\tnum_heads      : 10\n",
            "---     Parameters necessary for calculating/parsing input descriptors. ---\n",
            "\tdescriptor_type: Bispectrum\n",
            "\tlammps_compute_file: \n",
            "\tdescriptors_contain_xyz: True\n",
            "\tuse_z_splitting: True\n",
            "\tnumber_y_planes: 0\n",
            "\tbispectrum_twojmax: 10\n",
            "\trcutfac        : 4.67637\n",
            "\tatomic_density_cutoff: 4.67637\n",
            "\tsnap_switchflag: 1\n",
            "\tuse_atomic_density_energy_formula: False\n",
            "\tatomic_density_sigma: None\n",
            "\tminterpy_point_list: []\n",
            "\tminterpy_cutoff_cube_size: 0.0\n",
            "\tminterpy_polynomial_degree: 4\n",
            "\tminterpy_lp_norm: 2\n",
            "---     Parameters necessary for calculating/parsing output quantites. ---\n",
            "\ttarget_type    : LDOS\n",
            "\tldos_gridsize  : 11\n",
            "\tldos_gridspacing_ev: 2.5\n",
            "\tldos_gridoffset_ev: -5\n",
            "\trestrict_targets: zero_out_negative\n",
            "\tpseudopotential_path: None\n",
            "\trdf_parameters : {'number_of_bins': 500, 'rMax': 'mic'}\n",
            "\ttpcf_parameters: {'number_of_bins': 20, 'rMax': 'mic'}\n",
            "\tssf_parameters : {'number_of_bins': 100, 'kMax': 12.0}\n",
            "---     Parameters necessary for loading and preprocessing data. ---\n",
            "\tsnapshot_directories_list: []\n",
            "\tdata_splitting_type: by_snapshot\n",
            "\tinput_rescaling_type: None\n",
            "\toutput_rescaling_type: None\n",
            "\tuse_lazy_loading: False\n",
            "\tuse_lazy_loading_prefetch: False\n",
            "\tuse_fast_tensor_data_set: False\n",
            "\tshuffling_seed : None\n",
            "---     Parameters needed for network runs (train, test or inference). ---\n",
            "\ttrainingtype   : SGD\n",
            "\tlearning_rate  : 0.5\n",
            "\tmax_number_epochs: 100\n",
            "\tverbosity      : True\n",
            "\tmini_batch_size: 10\n",
            "\tweight_decay   : 0\n",
            "\tearly_stopping_epochs: 0\n",
            "\tearly_stopping_threshold: 0\n",
            "\tlearning_rate_scheduler: None\n",
            "\tlearning_rate_decay: 0.1\n",
            "\tlearning_rate_patience: 0\n",
            "\tuse_compression: False\n",
            "\tnum_workers    : 0\n",
            "\tuse_shuffling_for_samplers: True\n",
            "\tcheckpoints_each_epoch: 0\n",
            "\tcheckpoint_name: checkpoint_mala\n",
            "\tvisualisation  : 0\n",
            "\tvisualisation_dir: .\\mala_logging\n",
            "\tvisualisation_dir_append_date: True\n",
            "\tduring_training_metric: ldos\n",
            "\tafter_before_training_metric: ldos\n",
            "\tinference_data_grid: [0, 0, 0]\n",
            "\tuse_mixed_precision: False\n",
            "\tuse_graphs     : False\n",
            "\ttraining_report_frequency: 1000\n",
            "\tprofiler_range : None\n",
            "---     Hyperparameter optimization parameters. ---\n",
            "\tdirection      : minimize\n",
            "\tn_trials       : 100\n",
            "\thyper_opt_method: optuna\n",
            "\tcheckpoints_each_trial: 0\n",
            "\tcheckpoint_name: checkpoint_mala_ho\n",
            "\tstudy_name     : None\n",
            "\trdb_storage    : None\n",
            "\trdb_storage_heartbeat: None\n",
            "\tnumber_training_per_trial: 1\n",
            "\ttrial_ensemble_evaluation: mean\n",
            "\tuse_multivariate: True\n",
            "\tnaswot_pruner_cutoff: 0\n",
            "\tpruner         : None\n",
            "\tnaswot_pruner_batch_size: 0\n",
            "\tnumber_bad_trials_before_stopping: None\n",
            "\tsqlite_timeout : 600\n",
            "\tacsd_points    : 100\n",
            "---     All parameters to help with data generation. ---\n",
            "\ttrajectory_analysis_denoising_width: 100\n",
            "\ttrajectory_analysis_below_average_counter: 50\n",
            "\ttrajectory_analysis_estimated_equilibrium: 0.1\n",
            "\ttrajectory_analysis_correlation_metric_cutoff: -0.1\n",
            "\ttrajectory_analysis_temperature_tolerance_percent: 1\n",
            "\tlocal_psp_path : None\n",
            "\tlocal_psp_name : None\n",
            "\tofdft_timestep : 0\n",
            "\tofdft_number_of_timesteps: 0\n",
            "\tofdft_temperature: 0\n",
            "\tofdft_kedf     : WT\n",
            "\tofdft_friction : 0.1\n"
          ]
        }
      ],
      "source": [
        "parameters.show()"
      ]
    },
    {
      "cell_type": "code",
      "execution_count": 9,
      "id": "2cd5fb1f-267b-4a48-97a6-988c045d31a3",
      "metadata": {
        "id": "2cd5fb1f-267b-4a48-97a6-988c045d31a3"
      },
      "outputs": [],
      "source": [
        "data_path = r\"/content/Mala-Simulations/original_QE_files/Data_Gen/Be\"\n",
        "snapshot_path =  r\"/content/Mala-Simulations/original_QE_files/Data_Gen/Be/snapshots\""
      ]
    },
    {
      "cell_type": "markdown",
      "id": "05dcbc36-fea8-403c-8532-bf0c5663c4a4",
      "metadata": {
        "id": "05dcbc36-fea8-403c-8532-bf0c5663c4a4"
      },
      "source": [
        "We'll now convert the data to MALA DATA (maxiter must be the same as QE files)\n",
        "THIS WILL TAKE LONG AS FUCK because no LAMMPS is compiled to work with MALA, be warned. There is a multiproccesing script in Github"
      ]
    },
    {
      "cell_type": "code",
      "execution_count": null,
      "id": "c0da0399-e219-4477-8a21-00f20673d992",
      "metadata": {
        "id": "c0da0399-e219-4477-8a21-00f20673d992"
      },
      "outputs": [],
      "source": [
        "data_converter = mala.DataConverter(parameters)\n",
        "maxiter = 8\n",
        "for i in range(1, maxiter):\n",
        "    time1 = time.time()\n",
        "    data_converter.add_snapshot(descriptor_input_type=\"espresso-out\",\n",
        "                                descriptor_input_path=os.path.join(data_path,f\"Be{i}.pw.out\"),\n",
        "                                target_input_type=\".cube\",\n",
        "                                target_input_path=os.path.join(f\"tmp.pp0*Be{i}_ldos.cube\"))\n",
        "    print(f\"DONE ADDING DATA ITERATION {i} of {maxiter - 1} in {time.time() - time1:.2f}s\")\n",
        "print(\"CONVERTING SNAPSHOTS\")\n",
        "time1 = time.time()\n",
        "#UNCOMMENT IF WANNA TRY HERE\n",
        "#data_converter.convert_snapshots(\"./snapshots/\", naming_scheme=\"Be_snapshot*.npy\")\n"
      ]
    },
    {
      "cell_type": "code",
      "execution_count": null,
      "id": "d9f14107-12d4-4113-8ebd-69404f28ea20",
      "metadata": {
        "id": "d9f14107-12d4-4113-8ebd-69404f28ea20"
      },
      "outputs": [],
      "source": []
    },
    {
      "cell_type": "markdown",
      "id": "f5312424-aae2-437f-a4f5-5a2381babd22",
      "metadata": {
        "id": "f5312424-aae2-437f-a4f5-5a2381babd22"
      },
      "source": [
        "Visualizing and reproducing output data\n",
        "\n",
        "Before we train a model, it is a good idea to think about which metric is important, i.e., how do we test if a model is good?\n",
        "\n",
        "In essence, the advantage of MALA is the access to multiple observables. Two easily accesible metrics are the density of states (DOS) and the band energy. We will now see how to calculate them from the LDOS (the actual DFT LDOS in this case) so we can do the same after model training to test our models.\n",
        "\n",
        "For this, we first have to make sure the correct LDOS parameters are used.\n"
      ]
    },
    {
      "cell_type": "code",
      "execution_count": null,
      "id": "d7a8d66f-74bc-4669-ba05-25e10c371897",
      "metadata": {
        "id": "d7a8d66f-74bc-4669-ba05-25e10c371897"
      },
      "outputs": [],
      "source": [
        "parameters.targets.target_type = \"LDOS\"\n",
        "parameters.targets.ldos_gridsize = 11\n",
        "parameters.targets.ldos_gridspacing_ev = 2.5\n",
        "parameters.targets.ldos_gridoffset_ev = -5"
      ]
    },
    {
      "cell_type": "markdown",
      "id": "6c667e37-7468-406b-afbc-a69d805a9a5d",
      "metadata": {
        "id": "6c667e37-7468-406b-afbc-a69d805a9a5d"
      },
      "source": [
        "Now we can create an LDOS calculator and directly populate it with the LDOS data from the data set."
      ]
    },
    {
      "cell_type": "code",
      "execution_count": null,
      "id": "60aef8fd-2dfd-49a1-9142-2942910e37be",
      "metadata": {
        "id": "60aef8fd-2dfd-49a1-9142-2942910e37be"
      },
      "outputs": [],
      "source": [
        "ldos_calculator = mala.LDOS.from_numpy_file(parameters, pj(snapshot_path, \"Be_snapshot1.out.npy\"))\n"
      ]
    },
    {
      "cell_type": "markdown",
      "id": "5cc62447-c9ff-4477-a430-f040e505601f",
      "metadata": {
        "id": "5cc62447-c9ff-4477-a430-f040e505601f"
      },
      "source": [
        "Afterwards, we have to read in some additional information from the simulation data (size of the real space grid, temperature, etc.)."
      ]
    },
    {
      "cell_type": "code",
      "execution_count": null,
      "id": "a0ff59e8-e55e-4c89-b595-7c6f49177cc8",
      "metadata": {
        "id": "a0ff59e8-e55e-4c89-b595-7c6f49177cc8"
      },
      "outputs": [],
      "source": [
        "ldos_calculator.read_additional_calculation_data(pj(data_path, \"Be1.pw.out\"))\n",
        "print(ldos_calculator.density_of_states)\n",
        "print(ldos_calculator.energy_grid)\n",
        "#print(ldos_calculator.density_of_states)"
      ]
    },
    {
      "cell_type": "markdown",
      "id": "1d249fe7-b05d-463b-b469-6e1387754caa",
      "metadata": {
        "id": "1d249fe7-b05d-463b-b469-6e1387754caa"
      },
      "source": [
        "Now we can access the DOS and the band energy as properties of the calculator object."
      ]
    },
    {
      "cell_type": "code",
      "execution_count": null,
      "id": "896a6ba1-7356-4315-b4ca-d6617b5c3675",
      "metadata": {
        "id": "896a6ba1-7356-4315-b4ca-d6617b5c3675"
      },
      "outputs": [],
      "source": [
        "fig = plt.figure(figsize=(10,10))\n",
        "ax = fig.add_subplot(1, 1, 1)\n",
        "ax.plot(ldos_calculator.energy_grid, ldos_calculator.density_of_states)\n",
        "\n",
        "ax.set_xlabel(\"Energy [eV]\")\n",
        "ax.set_ylabel(\"Density of States [1/eV]\")\n",
        "\n",
        "print(ldos_calculator.band_energy)"
      ]
    },
    {
      "cell_type": "code",
      "execution_count": null,
      "id": "aaa23e83-72aa-4b25-bf30-b6ca30118bba",
      "metadata": {
        "id": "aaa23e83-72aa-4b25-bf30-b6ca30118bba"
      },
      "outputs": [],
      "source": [
        "parameters.verbosity = 2\n",
        "parameters.manual_seed = 2024"
      ]
    },
    {
      "cell_type": "markdown",
      "id": "029b9f30-cb29-4d9b-b643-22d0ad49fd8d",
      "metadata": {
        "id": "029b9f30-cb29-4d9b-b643-22d0ad49fd8d"
      },
      "source": [
        "Now we have to add data, we have to choose between training and test data"
      ]
    },
    {
      "cell_type": "code",
      "execution_count": null,
      "id": "71b86deb-5238-42aa-a7e1-db21004e398c",
      "metadata": {
        "id": "71b86deb-5238-42aa-a7e1-db21004e398c"
      },
      "outputs": [],
      "source": [
        "\n",
        "def split_data(maxiter, prop, prop2):\n",
        "    data = np.arange (1,maxiter +1)\n",
        "    random.shuffle(data)  # Shuffle the data randomly\n",
        "    split_80 = int(len(data) * prop)  # Calculate the index for the 80% split\n",
        "    split_20 = int(len(data) * prop2)  # Calculate the index for the 20% split\n",
        "    train_data = data[:split_80]  # Extract the first 80% of the shuffled data\n",
        "    test_data = data[split_80:split_80+split_20 ]  # Extract the next 20% of the shuffled data\n",
        "    validation_data = data[split_80+split_20:]  # Extract the remaining 20% of the shuffled data\n",
        "    return train_data, test_data, validation_data\n",
        "\n"
      ]
    },
    {
      "cell_type": "markdown",
      "id": "f9e69657-b8cc-4d32-974d-2e7b0bd18ec4",
      "metadata": {
        "id": "f9e69657-b8cc-4d32-974d-2e7b0bd18ec4"
      },
      "source": [
        "We'll now test in a very basic system, a 2 atom Si, where we only change Atomic Positions in a +-0.1 crystallographic axes randomly\n",
        "Akin to a relax calculation in QE"
      ]
    },
    {
      "cell_type": "code",
      "execution_count": null,
      "id": "d52cc8e4-6060-4504-9181-f8ed584c14a6",
      "metadata": {
        "id": "d52cc8e4-6060-4504-9181-f8ed584c14a6"
      },
      "outputs": [],
      "source": [
        "data_path = r\"/content/Mala-Simulations/original_QE_files/Data_Gen/SiPositions\"\n",
        "snapshot_path =  r\"/content/Mala-Simulations/original_QE_files/Data_Gen/SiPositions/snapshots\""
      ]
    },
    {
      "cell_type": "code",
      "execution_count": null,
      "id": "013b167d-7333-476b-a389-48c48ee95055",
      "metadata": {
        "id": "013b167d-7333-476b-a389-48c48ee95055"
      },
      "outputs": [],
      "source": [
        "parameters.targets.target_type = \"LDOS\"\n",
        "parameters.targets.ldos_gridsize = 11\n",
        "parameters.targets.ldos_gridspacing_ev = 2.5\n",
        "parameters.targets.ldos_gridoffset_ev = -5\n",
        "ldos_calculator = mala.LDOS.from_numpy_file(parameters, pj(snapshot_path, \"Si_snapshot1.out.npy\"))\n",
        "ldos_calculator.read_additional_calculation_data(pj(data_path, \"Si1.pw.out\"))\n",
        "print(ldos_calculator.density_of_states)\n",
        "print(ldos_calculator.energy_grid)\n",
        "#print(ldos_calculator.density_of_states)"
      ]
    },
    {
      "cell_type": "markdown",
      "id": "04537c73-b609-4899-b74e-a2f752381a3f",
      "metadata": {
        "id": "04537c73-b609-4899-b74e-a2f752381a3f"
      },
      "source": [
        "Let's plot the DOS"
      ]
    },
    {
      "cell_type": "code",
      "execution_count": null,
      "id": "bcdb124d-d55d-4915-9a49-98e72beaec08",
      "metadata": {
        "id": "bcdb124d-d55d-4915-9a49-98e72beaec08"
      },
      "outputs": [],
      "source": [
        "fig = plt.figure(figsize=(10,10))\n",
        "ax = fig.add_subplot(1, 1, 1)\n",
        "ax.plot(ldos_calculator.energy_grid, ldos_calculator.density_of_states)\n",
        "\n",
        "ax.set_xlabel(\"Energy [eV]\")\n",
        "ax.set_ylabel(\"Density of States [1/eV]\")\n",
        "\n",
        "print(ldos_calculator.band_energy)"
      ]
    },
    {
      "cell_type": "markdown",
      "id": "b0d4a0e7-4d96-4468-8ee6-dbd725b3b3b8",
      "metadata": {
        "id": "b0d4a0e7-4d96-4468-8ee6-dbd725b3b3b8"
      },
      "source": [
        "Now we'll Load all the Si Files, and split data (watch out for number of snapshots and props)"
      ]
    },
    {
      "cell_type": "code",
      "execution_count": null,
      "id": "4c5220c1-9953-4bea-8a56-95ec776249d1",
      "metadata": {
        "id": "4c5220c1-9953-4bea-8a56-95ec776249d1"
      },
      "outputs": [],
      "source": [
        "parameters = mala.Parameters.load_from_file(r\"/content/Mala-Simulations/mala_parameters_01.json\")\n",
        "data_handler = mala.DataHandler(parameters)\n",
        "prop = 0.7 # proportion of training data\n",
        "prop2 = 0.2 #proportion of validation data\n",
        "maxiter = 12 # number of .in snapshots\n",
        "train_data, test_data, validation_data = split_data(maxiter, prop, prop2)\n",
        "print(train_data, test_data, validation_data)\n",
        "for i in range(1, maxiter + 1):\n",
        "    time1 = time.time()\n",
        "    if i in train_data:\n",
        "        data_handler.add_snapshot(f\"Si_snapshot{i}.in.npy\", snapshot_path,\n",
        "                              f\"Si_snapshot{i}.out.npy\", snapshot_path, \"tr\")\n",
        "    elif i in validation_data :\n",
        "        data_handler.add_snapshot(f\"Si_snapshot{i}.in.npy\", snapshot_path,\n",
        "                              f\"Si_snapshot{i}.out.npy\", snapshot_path, \"va\")\n",
        "\n",
        "    print(f\"DONE ADDING DATA ITERATION {i} of {maxiter - 1} in {time.time() - time1:.2f}s\")\n",
        "\n",
        "# This already loads data into RAM!\n",
        "data_handler.prepare_data()\n"
      ]
    },
    {
      "cell_type": "markdown",
      "id": "e7c745c3-a33d-4f22-a635-7f0c02da55a7",
      "metadata": {
        "id": "e7c745c3-a33d-4f22-a635-7f0c02da55a7"
      },
      "source": [
        "Now we  can train the Network. It is a basic Network with 100 neurons. Takes about 3-4 minutes. Much faster if GPU"
      ]
    },
    {
      "cell_type": "code",
      "execution_count": null,
      "id": "ae3d7f01-8b5e-48dc-8569-e997b94728e9",
      "metadata": {
        "id": "ae3d7f01-8b5e-48dc-8569-e997b94728e9"
      },
      "outputs": [],
      "source": [
        "parameters.verbosity = 2\n",
        "parameters.use_gpu = True #if crashing or error just delete below parameters, set gpu to false and rerun cell above. First error just run cell above\n",
        "#parameters.running.use_graphs = True  #NVIDIA things. Pretty Buggy but performant when it wants to\n",
        "parameters.data.use_fast_tensor_data_set = True #Watch out if AMD\n",
        "\n",
        "parameters.network.layer_sizes = [data_handler.input_dimension,\n",
        "                                  100, data_handler.output_dimension]\n",
        "parameters.running.max_number_epochs = 2\n",
        "parameters.running.early_stopping_epochs = 10\n",
        "network = mala.Network(parameters)\n",
        "time1 = time.time()\n",
        "trainer = mala.Trainer(parameters, network, data_handler)\n",
        "trainer.train_network()\n",
        "print(f\"DONE Training Model in {time.time() - time1:.2f}s\")"
      ]
    },
    {
      "cell_type": "markdown",
      "id": "e7ec5e5d-509c-4a08-a962-97b223fa0148",
      "metadata": {
        "id": "e7ec5e5d-509c-4a08-a962-97b223fa0148"
      },
      "source": [
        "We can test this by using the Tester class. The class works similar to the Trainer class. We add data, push them through the model, and then use the results to perform calculations.\n",
        "\n",
        "We just have to make sure that the LDOS is correctly integrated by setting the appropriate parameters. Then we can add data to test. We should always test on data different from the one we trained on. Also, we now have to specify the corresponding calculation output, since we may need this for integration."
      ]
    },
    {
      "cell_type": "code",
      "execution_count": null,
      "id": "e92ec70a-e517-4200-abdc-08bf3cb79fde",
      "metadata": {
        "id": "e92ec70a-e517-4200-abdc-08bf3cb79fde"
      },
      "outputs": [],
      "source": [
        "data_handler.clear_data()\n",
        "parameters.targets.target_type = \"LDOS\"\n",
        "parameters.targets.ldos_gridsize = 11\n",
        "parameters.targets.ldos_gridspacing_ev = 2.5\n",
        "parameters.targets.ldos_gridoffset_ev = -5\n",
        "\n",
        "for i in range(1, maxiter + 1):\n",
        "    if i in test_data:\n",
        "        data_handler.add_snapshot(f\"Si_snapshot{i}.in.npy\", snapshot_path,\n",
        "                              f\"Si_snapshot{i}.out.npy\", snapshot_path, \"te\",\n",
        "                                  calculation_output_file=pj(data_path, f\"Si{i}.pw.out\"))\n",
        "\n",
        "\n",
        "data_handler.prepare_data(reparametrize_scaler=False)\n",
        "tester = mala.Tester(parameters, network, data_handler, observables_to_test=[\"band_energy\"])\n",
        "\n",
        "results = tester.test_all_snapshots()\n"
      ]
    },
    {
      "cell_type": "markdown",
      "id": "87125aad-fa18-4eec-a467-99ae65c765be",
      "metadata": {
        "id": "87125aad-fa18-4eec-a467-99ae65c765be"
      },
      "source": [
        "Results are given in error of ev/atom"
      ]
    },
    {
      "cell_type": "code",
      "execution_count": null,
      "id": "84e9206b-b075-4918-85b5-6dfcf234b57c",
      "metadata": {
        "id": "84e9206b-b075-4918-85b5-6dfcf234b57c"
      },
      "outputs": [],
      "source": [
        "results"
      ]
    },
    {
      "cell_type": "markdown",
      "id": "277c2038-84b6-48d5-943a-93d71728447d",
      "metadata": {
        "id": "277c2038-84b6-48d5-943a-93d71728447d"
      },
      "source": [
        "Let's do the Same with a much bigger network, for better results"
      ]
    },
    {
      "cell_type": "code",
      "execution_count": null,
      "id": "3c4d17b1-528b-4f9a-98c3-5bd0667a4f79",
      "metadata": {
        "id": "3c4d17b1-528b-4f9a-98c3-5bd0667a4f79"
      },
      "outputs": [],
      "source": [
        "parameters = mala.Parameters.load_from_file(r\"/content/Mala-Simulations/mala_parameters_01.json\")\n",
        "\n",
        "data_handler = mala.DataHandler(parameters)\n",
        "prop = 0.8 # proportion of training data\n",
        "prop2 = 0.1 #proportion of validation data\n",
        "maxiter = 12 # number of .in snapshots\n",
        "train_data, test_data, validation_data = split_data(maxiter, prop, prop2)\n",
        "print(train_data, test_data, validation_data)\n",
        "for i in range(1, maxiter + 1):\n",
        "    time1 = time.time()\n",
        "    if i in train_data:\n",
        "        data_handler.add_snapshot(f\"Si_snapshot{i}.in.npy\", snapshot_path,\n",
        "                              f\"Si_snapshot{i}.out.npy\", snapshot_path, \"tr\")\n",
        "    elif i in validation_data :\n",
        "        data_handler.add_snapshot(f\"Si_snapshot{i}.in.npy\", snapshot_path,\n",
        "                              f\"Si_snapshot{i}.out.npy\", snapshot_path, \"va\")\n",
        "\n",
        "    print(f\"DONE ADDING DATA ITERATION {i} of {maxiter - 1} in {time.time() - time1:.2f}s\")\n",
        "\n",
        "# This already loads data into RAM!\n",
        "data_handler.prepare_data()\n"
      ]
    },
    {
      "cell_type": "markdown",
      "id": "634027cc-fd7f-43b9-b950-a5ef47bad068",
      "metadata": {
        "id": "634027cc-fd7f-43b9-b950-a5ef47bad068"
      },
      "source": [
        "We'll also rescale all descriptors with Row Standardization to improve performance"
      ]
    },
    {
      "cell_type": "code",
      "execution_count": null,
      "id": "2329e65b-e39e-4dc7-8cf9-bd212d005c92",
      "metadata": {
        "id": "2329e65b-e39e-4dc7-8cf9-bd212d005c92"
      },
      "outputs": [],
      "source": [
        "parameters.use_gpu = True #if crashing or error just delete below parameters, set gpu to false and rerun cell above. First error just run cell above\n",
        "#parameters.running.use_graphs = True  #NVIDIA things. Pretty Buggy but performant when it wants to\n",
        "parameters.data.use_fast_tensor_data_set = True #Watch out if AMD\n",
        "parameters.running.learning_rate = 0.5\n",
        "parameters.network.layer_sizes = [data_handler.input_dimension,\n",
        "                                  500,data_handler.output_dimension]\n",
        "parameters.data.input_rescaling_type = \"feature-wise-standard\"\n",
        "parameters.running.max_number_epochs = 10\n",
        "parameters.running.early_stopping_epochs = 4\n",
        "network = mala.Network(parameters)\n",
        "time1 = time.time()\n",
        "trainer = mala.Trainer(parameters, network, data_handler)\n",
        "trainer.train_network()\n",
        "print(f\"DONE Training Model in {time.time() - time1:.2f}s\")"
      ]
    },
    {
      "cell_type": "code",
      "execution_count": null,
      "id": "9440c024-76a7-451c-984e-ae38cb061d7a",
      "metadata": {
        "id": "9440c024-76a7-451c-984e-ae38cb061d7a"
      },
      "outputs": [],
      "source": [
        "data_handler.clear_data()\n",
        "for i in range(1, maxiter + 1):\n",
        "    if i in test_data:\n",
        "        data_handler.add_snapshot(f\"Si_snapshot{i}.in.npy\", snapshot_path,\n",
        "                              f\"Si_snapshot{i}.out.npy\", snapshot_path, \"te\",\n",
        "                                  calculation_output_file=pj(data_path, f\"Si{i}.pw.out\"))\n",
        "\n",
        "\n",
        "data_handler.prepare_data(reparametrize_scaler=False)\n",
        "tester = mala.Tester(parameters, network, data_handler, observables_to_test=[\"band_energy\"])\n",
        "\n",
        "results = tester.test_all_snapshots()\n",
        "results"
      ]
    },
    {
      "cell_type": "markdown",
      "id": "b31e25f5-4afb-4b1b-a524-aa0e8e0ecaab",
      "metadata": {
        "id": "b31e25f5-4afb-4b1b-a524-aa0e8e0ecaab"
      },
      "source": [
        "Let's save the data and then calculate DOS from it"
      ]
    },
    {
      "cell_type": "code",
      "execution_count": null,
      "id": "80aa7fcc-78e7-412b-8d7d-adfc1917d009",
      "metadata": {
        "id": "80aa7fcc-78e7-412b-8d7d-adfc1917d009"
      },
      "outputs": [],
      "source": [
        "trainer.save_run(\"Si1_model\")"
      ]
    },
    {
      "cell_type": "code",
      "execution_count": null,
      "id": "f46faa42-ac7b-4bfb-b12d-eede205f52a3",
      "metadata": {
        "id": "f46faa42-ac7b-4bfb-b12d-eede205f52a3"
      },
      "outputs": [],
      "source": [
        "parameters, network, data_handler, tester = mala.Tester.load_run(\"Si1_model\")\n",
        "data_handler.clear_data()\n",
        "data_handler.add_snapshot(f\"Si_snapshot{test_data[0]}.in.npy\", snapshot_path,\n",
        "                              f\"Si_snapshot{test_data[0]}.out.npy\", snapshot_path, \"te\",\n",
        "                                  calculation_output_file=pj(data_path, f\"Si{test_data[0]}.pw.out\"))\n",
        "data_handler.prepare_data(reparametrize_scaler=False)\n",
        "actual_ldos, predicted_ldos = tester.predict_targets(0)\n",
        "ldos_calculator = data_handler.target_calculator\n",
        "ldos_calculator.read_additional_calculation_data(data_handler.get_snapshot_calculation_output(0))\n",
        "\n",
        "fig = plt.figure(figsize=(10,10))\n",
        "ax = fig.add_subplot(1, 1, 1)\n",
        "ldos_calculator.read_from_array(actual_ldos)\n",
        "ax.plot(ldos_calculator.energy_grid, ldos_calculator.density_of_states.copy(), label=\"Actual\")\n",
        "ldos_calculator.read_from_array(predicted_ldos)\n",
        "ax.plot(ldos_calculator.energy_grid, ldos_calculator.density_of_states.copy(), label=\"Predicted\")\n",
        "\n",
        "ax.set_xlabel(\"Energy [eV]\")\n",
        "ax.set_ylabel(\"Density of States [1/eV]\")\n",
        "ax.legend()\n"
      ]
    },
    {
      "cell_type": "markdown",
      "id": "ac6ce999-e64f-45ad-a434-69e0e58428ab",
      "metadata": {
        "id": "ac6ce999-e64f-45ad-a434-69e0e58428ab"
      },
      "source": [
        "Let's Show now how we can optimize network Parameters automatically. There are multiple algorithms implemented, but we will focus on the `optuna` library, to which MALA provides an interface. The idea is easy: we give MALA a set of hyperparameters to optimize, fix the others, give it some data and let optuna do its work. Optuna internally uses elaborate algorithms to determine optimal hyperparameters from observed data.\n",
        "\n",
        "Kinda works, takes too long and buggy (still in development it seems), decided not to push this part Go after hyperparameter opt for Be and Si Cell parameters"
      ]
    },
    {
      "cell_type": "code",
      "execution_count": null,
      "id": "8fca8232-c878-45ee-ad91-eefbf36cb787",
      "metadata": {
        "id": "8fca8232-c878-45ee-ad91-eefbf36cb787"
      },
      "outputs": [],
      "source": [
        "\"\"\"\n",
        "parameters.verbosity = 2\n",
        "parameters.manual_seed = 2024\n",
        "parameters.data.input_rescaling_type = \"feature-wise-standard\"\n",
        "parameters.data.output_rescaling_type = \"normal\"\n",
        "parameters.running.max_number_epochs = 100\n",
        "parameters.running.mini_batch_size = 40\n",
        "parameters.running.trainingtype = \"SGD\"\n",
        "\"\"\""
      ]
    },
    {
      "cell_type": "markdown",
      "id": "63bf8423-77e9-4d4c-924f-35004d5811d8",
      "metadata": {
        "id": "63bf8423-77e9-4d4c-924f-35004d5811d8"
      },
      "source": [
        "Let's specify data to be used.\n"
      ]
    },
    {
      "cell_type": "code",
      "execution_count": null,
      "id": "c09fae6b-fd95-4982-9c49-eec0929e785e",
      "metadata": {
        "id": "c09fae6b-fd95-4982-9c49-eec0929e785e"
      },
      "outputs": [],
      "source": [
        "\"\"\"\n",
        "data_handler = mala.DataHandler(parameters)\n",
        "data_handler.clear_data()\n",
        "train_data, test_data, validation_data = split_data(maxiter, prop, prop2)\n",
        "print(train_data, test_data, validation_data)\n",
        "for i in range(1, maxiter + 1):\n",
        "    time1 = time.time()\n",
        "    if i in train_data:\n",
        "        data_handler.add_snapshot(f\"Si_snapshot{i}.in.npy\", snapshot_path,\n",
        "                              f\"Si_snapshot{i}.out.npy\", snapshot_path, \"tr\")\n",
        "    elif i in validation_data :\n",
        "        data_handler.add_snapshot(f\"Si_snapshot{i}.in.npy\", snapshot_path,\n",
        "                              f\"Si_snapshot{i}.out.npy\", snapshot_path, \"va\")\n",
        "    else:\n",
        "        data_handler.add_snapshot(f\"Si_snapshot{i}.in.npy\", snapshot_path,\n",
        "                              f\"Si_snapshot{i}.out.npy\", snapshot_path, \"te\",\n",
        "                                  calculation_output_file=pj(data_path, f\"Si{i}.pw.out\"))\n",
        "    print(f\"DONE ADDING DATA ITERATION {i} of {maxiter - 1} in {time.time() - time1:.2f}s\")\n",
        "\n",
        "# This already loads data into RAM!\n",
        "data_handler.prepare_data()\n",
        "\"\"\""
      ]
    },
    {
      "cell_type": "markdown",
      "id": "3a98f83a-a2bf-4c5f-93b8-7b358bc1615e",
      "metadata": {
        "id": "3a98f83a-a2bf-4c5f-93b8-7b358bc1615e"
      },
      "source": [
        "Before we instantiate the hyperparameter optimizer, two important parameters to set are\n",
        "\n",
        "1. The number of trials (test networks) to train\n",
        "2. How often to train a test network - if we train each proposed network a number of times and evaluate the average performant, we can discard unrobust outliers. In the interest of time, let's keep it at 1 here.\n"
      ]
    },
    {
      "cell_type": "code",
      "execution_count": null,
      "id": "6e711e67-091b-4a0d-8ccb-44b149170ba5",
      "metadata": {
        "id": "6e711e67-091b-4a0d-8ccb-44b149170ba5"
      },
      "outputs": [],
      "source": [
        "\"\"\"parameters = mala.Parameters()\n",
        "parameters.use_gpu = True #if crashing or error just delete these parameters\n",
        "#parallelizes surprisingly good in cpu\n",
        "parameters.data.use_fast_tensor_data_set = True #Watch out if AMD\n",
        "\n",
        "parameters.running.max_number_epochs = 30\n",
        "parameters.hyperparameters.n_trials = 3\n",
        "parameters.hyperparameters.number_training_per_trial = 1\n",
        "#parameters.running.after_before_training_metric = \"band_energy\"\n",
        "hyperoptimizer = mala.HyperOptOptuna(parameters, data_handler)\n",
        "\n",
        "hyperoptimizer.add_hyperparameter(\"categorical\", \"learning_rate\",\n",
        "                                     choices=[0.1, 0.2])\n",
        "hyperoptimizer.add_hyperparameter(\"categorical\", \"ff_neurons_layer_00\", choices=[10, 100, 200])\n",
        "hyperoptimizer.add_hyperparameter(\"categorical\", \"ff_neurons_layer_01\", choices=[10, 100, 200])\n",
        "hyperoptimizer.add_hyperparameter(\"categorical\", \"early_stopping_epochs\", choices=[4, 8])\n",
        "\n",
        "# Choices for activation function at each layer will be optimized.\n",
        "hyperoptimizer.add_hyperparameter(\"categorical\", \"trainingtype\",\n",
        "                                  choices=[\"SGD\", \"Adam\"])\n",
        "\n",
        "hyperoptimizer.add_hyperparameter(\"categorical\", \"layer_activation_00\",\n",
        "                                  choices=[\"ReLU\", \"Sigmoid\", \"LeakyReLU\"])\n",
        "\"\"\""
      ]
    },
    {
      "cell_type": "markdown",
      "id": "6d88d9ef-6b50-4430-ae27-6da67efc1406",
      "metadata": {
        "id": "6d88d9ef-6b50-4430-ae27-6da67efc1406"
      },
      "source": [
        "The syntax is weird , since we are trying to cramp a complicated system into a few function calls. Now let's run it. This may take a while. Make a coffee while it runs.\n",
        "Here, we have added the learning rate, number of neurons for two hidden NN layers and the activation function in between to the hyperparameter optimization\n",
        "\n",
        "Learning rate of NN optimization (step size of gradient based optimizer)\n",
        "Number of neurons per layer. This is the primary tuning parameter to optimize the network architecture\n",
        "Optimization algorithm used during the NN optimization.\n",
        "Describes the activation functions used in the NN."
      ]
    },
    {
      "cell_type": "code",
      "execution_count": null,
      "id": "7cb1287c-5020-4370-bc55-aa93064574de",
      "metadata": {
        "id": "7cb1287c-5020-4370-bc55-aa93064574de"
      },
      "outputs": [],
      "source": [
        "\"\"\"hyperoptimizer.perform_study()\n",
        "\n",
        "# Will save the results directly to the parameters.\n",
        "hyperoptimizer.set_optimal_parameters()\"\"\""
      ]
    },
    {
      "cell_type": "markdown",
      "id": "1836f5da-2672-4b47-9de8-5d582a53f147",
      "metadata": {
        "id": "1836f5da-2672-4b47-9de8-5d582a53f147"
      },
      "source": [
        "Let's train the best network one final time and see where we stand. In my case, the network that Optuna suggest is bigger and deeper then the one we have used before, but that may differ. Keep in mind we are performing a very  limited search here in the interest of time."
      ]
    },
    {
      "cell_type": "code",
      "execution_count": null,
      "id": "08ee137e-6760-4bca-8935-85e240bc9ca0",
      "metadata": {
        "id": "08ee137e-6760-4bca-8935-85e240bc9ca0"
      },
      "outputs": [],
      "source": [
        "\"\"\"data_handler.clear_data()\n",
        "train_data, test_data, validation_data = split_data(maxiter, prop, prop2)\n",
        "print(train_data, test_data, validation_data)\n",
        "for i in range(1, maxiter + 1):\n",
        "    time1 = time.time()\n",
        "    if i in train_data:\n",
        "        data_handler.add_snapshot(f\"Si_snapshot{i}.in.npy\", snapshot_path,\n",
        "                              f\"Si_snapshot{i}.out.npy\", snapshot_path, \"tr\")\n",
        "    elif i in validation_data :\n",
        "        data_handler.add_snapshot(f\"Si_snapshot{i}.in.npy\", snapshot_path,\n",
        "                              f\"Si_snapshot{i}.out.npy\", snapshot_path, \"va\")\n",
        "\n",
        "\n",
        "    print(f\"DONE ADDING DATA ITERATION {i} of {maxiter - 1} in {time.time() - time1:.2f}s\")\n",
        "\n",
        "# This already loads data into RAM!\n",
        "data_handler.prepare_data()\"\"\"\n"
      ]
    },
    {
      "cell_type": "code",
      "execution_count": null,
      "id": "d1cf419e-2b58-4e49-ae41-dd367151a865",
      "metadata": {
        "id": "d1cf419e-2b58-4e49-ae41-dd367151a865"
      },
      "outputs": [],
      "source": [
        "\"\"\"network = mala.Network(parameters)\n",
        "\n",
        "trainer = mala.Trainer(parameters, network, data_handler)\n",
        "trainer.train_network()\n",
        "\n",
        "parameters.targets.ldos_gridsize = 11\n",
        "parameters.targets.ldos_gridspacing_ev = 2.5\n",
        "parameters.targets.ldos_gridoffset_ev = -5\n",
        "\"\"\"\n"
      ]
    },
    {
      "cell_type": "code",
      "execution_count": null,
      "id": "561dd763-0933-4635-b292-e2d70c7527d2",
      "metadata": {
        "id": "561dd763-0933-4635-b292-e2d70c7527d2"
      },
      "outputs": [],
      "source": [
        "\"\"\"data_handler.clear_data()\n",
        "for i in range(1, maxiter + 1):\n",
        "    if i in test_data:\n",
        "        data_handler.add_snapshot(f\"Si_snapshot{i}.in.npy\", snapshot_path,\n",
        "                              f\"Si_snapshot{i}.out.npy\", snapshot_path, \"te\",\n",
        "                                  calculation_output_file=pj(data_path, f\"Si{i}.pw.out\"))\n",
        "\n",
        "\n",
        "data_handler.prepare_data(reparametrize_scaler=False)\n",
        "tester = mala.Tester(parameters, network, data_handler, observables_to_test=[\"band_energy\"])\n",
        "\n",
        "results = tester.test_all_snapshots()\n",
        "\n",
        "print(\"Energy Errors eV/atom\", results)\"\"\""
      ]
    },
    {
      "cell_type": "code",
      "execution_count": null,
      "id": "190fd490-d845-4ad5-8f69-7eca2f3feee9",
      "metadata": {
        "id": "190fd490-d845-4ad5-8f69-7eca2f3feee9"
      },
      "outputs": [],
      "source": [
        "parameters = mala.Parameters.load_from_file(r\"/content/Mala-Simulations/mala_parameters_01.json\")"
      ]
    },
    {
      "cell_type": "markdown",
      "id": "890430f1-9bd3-4ad7-92d3-0b8eb32ea5a9",
      "metadata": {
        "id": "890430f1-9bd3-4ad7-92d3-0b8eb32ea5a9"
      },
      "source": [
        "Now we'll Load the Berillium Files, and split data (watch out for number of snapshots and props)"
      ]
    },
    {
      "cell_type": "code",
      "execution_count": null,
      "id": "681e74d5-7e7a-4f01-9c75-e581d9f249a1",
      "metadata": {
        "id": "681e74d5-7e7a-4f01-9c75-e581d9f249a1"
      },
      "outputs": [],
      "source": [
        "data_path = r\"/content/Mala-Simulations/original_QE_files/Data_Gen/Be\"\n",
        "snapshot_path =  r\"/content/Mala-Simulations/original_QE_files/Data_Gen/Be/snapshots\""
      ]
    },
    {
      "cell_type": "code",
      "execution_count": null,
      "id": "ecd2a10f-92d7-4158-85c9-6ddbc1824455",
      "metadata": {
        "scrolled": true,
        "id": "ecd2a10f-92d7-4158-85c9-6ddbc1824455"
      },
      "outputs": [],
      "source": [
        "data_handler = mala.DataHandler(parameters)\n",
        "prop = 0.6 # proportion of training data\n",
        "prop2 = 0.3 #proportion of validation data\n",
        "maxiter = 8 # number of .in snapshots\n",
        "train_data, test_data, validation_data = split_data(maxiter, prop, prop2)\n",
        "print(train_data, test_data, validation_data )\n",
        "for i in range(1, maxiter + 1):\n",
        "    time1 = time.time()\n",
        "    if i in train_data:\n",
        "        data_handler.add_snapshot(f\"Be_snapshot{i}.in.npy\", snapshot_path,\n",
        "                              f\"Be_snapshot{i}.out.npy\", snapshot_path, \"tr\")\n",
        "    elif i in validation_data :\n",
        "        data_handler.add_snapshot(f\"Be_snapshot{i}.in.npy\", snapshot_path,\n",
        "                              f\"Be_snapshot{i}.out.npy\", snapshot_path, \"va\")\n",
        "\n",
        "    print(f\"DONE ADDING DATA ITERATION {i} of {maxiter - 1} in {time.time() - time1:.2f}s\")\n",
        "\n",
        "# This already loads data into RAM!\n",
        "data_handler.prepare_data()\n",
        "parameters.network.layer_sizes = [data_handler.input_dimension,\n",
        "                                  100,\n",
        "                                  data_handler.output_dimension]"
      ]
    },
    {
      "cell_type": "markdown",
      "id": "c4bfce7a-48ac-402f-97b9-6621a816a8ad",
      "metadata": {
        "id": "c4bfce7a-48ac-402f-97b9-6621a816a8ad"
      },
      "source": [
        "Now we  can train the Network"
      ]
    },
    {
      "cell_type": "code",
      "execution_count": null,
      "id": "a998b01c-874e-4f0a-9c93-1af84681ccc3",
      "metadata": {
        "id": "a998b01c-874e-4f0a-9c93-1af84681ccc3"
      },
      "outputs": [],
      "source": [
        "parameters.running.max_number_epochs = 10\n",
        "time1 = time.time()\n",
        "network = mala.Network(parameters)\n",
        "trainer = mala.Trainer(parameters, network, data_handler)\n",
        "trainer.train_network()\n",
        "print(f\"DONE Training Model in {time.time() - time1:.2f}s\")"
      ]
    },
    {
      "cell_type": "markdown",
      "id": "da45a40e-9955-4d81-b7db-2cf5611137ea",
      "metadata": {
        "id": "da45a40e-9955-4d81-b7db-2cf5611137ea"
      },
      "source": [
        "We can test this by using the Tester class. The class works similar to the Trainer class. We add data, push them through the model, and then use the results to perform calculations.\n",
        "\n",
        "We just have to make sure that the LDOS is correctly integrated by setting the appropriate parameters. Then we can add data to test. We should always test on data different from the one we trained on. Also, we now have to specify the corresponding calculation output, since we may need this for integration."
      ]
    },
    {
      "cell_type": "code",
      "execution_count": null,
      "id": "f562853f-c7e1-433c-afa8-f63b987e1df9",
      "metadata": {
        "id": "f562853f-c7e1-433c-afa8-f63b987e1df9"
      },
      "outputs": [],
      "source": [
        "data_handler.clear_data()\n",
        "for i in range(1, maxiter + 1):\n",
        "    if i in test_data:\n",
        "        data_handler.add_snapshot(f\"Be_snapshot{i}.in.npy\", snapshot_path,\n",
        "                              f\"Be_snapshot{i}.out.npy\", snapshot_path, \"te\",\n",
        "                                  calculation_output_file=pj(data_path, f\"Be{i}.pw.out\"))\n",
        "\n",
        "\n",
        "data_handler.prepare_data(reparametrize_scaler=False)\n",
        "tester = mala.Tester(parameters, network, data_handler, observables_to_test=[\"band_energy\"])\n",
        "\n",
        "results = tester.test_all_snapshots()\n"
      ]
    },
    {
      "cell_type": "markdown",
      "id": "62328788-05a2-4e2c-a3cc-be252147edd8",
      "metadata": {
        "id": "62328788-05a2-4e2c-a3cc-be252147edd8"
      },
      "source": [
        "The results are given as a dictionary and in the units of meV/atom.The results are given as a dictionary and in the units of meV/atom."
      ]
    },
    {
      "cell_type": "code",
      "execution_count": null,
      "id": "3946a798-e4da-4e74-8cba-477af3851a28",
      "metadata": {
        "id": "3946a798-e4da-4e74-8cba-477af3851a28"
      },
      "outputs": [],
      "source": [
        "results"
      ]
    },
    {
      "cell_type": "code",
      "execution_count": null,
      "id": "45f580f6-b501-4a5a-98a1-a2147a0f0ac5",
      "metadata": {
        "id": "45f580f6-b501-4a5a-98a1-a2147a0f0ac5"
      },
      "outputs": [],
      "source": [
        "trainer.save_run(\"Be1_model\")"
      ]
    },
    {
      "cell_type": "code",
      "execution_count": null,
      "id": "517b832b-3fae-43df-a106-88d4233689e1",
      "metadata": {
        "id": "517b832b-3fae-43df-a106-88d4233689e1"
      },
      "outputs": [],
      "source": [
        "parameters, network, data_handler, tester = mala.Tester.load_run(\"Be1_model\")\n",
        "data_handler.clear_data()\n",
        "data_handler.add_snapshot(f\"Be_snapshot{test_data[0]}.in.npy\", snapshot_path,\n",
        "                              f\"Be_snapshot{test_data[0]}.out.npy\", snapshot_path, \"te\",\n",
        "                                  calculation_output_file=pj(data_path, f\"Be{test_data[0]}.pw.out\"))\n",
        "data_handler.prepare_data(reparametrize_scaler=False)\n",
        "actual_ldos, predicted_ldos = tester.predict_targets(0)\n",
        "ldos_calculator = data_handler.target_calculator\n",
        "ldos_calculator.read_additional_calculation_data(data_handler.get_snapshot_calculation_output(0))\n",
        "\n",
        "fig = plt.figure(figsize=(10,10))\n",
        "ax = fig.add_subplot(1, 1, 1)\n",
        "ldos_calculator.read_from_array(actual_ldos)\n",
        "ax.plot(ldos_calculator.energy_grid, ldos_calculator.density_of_states.copy(), label=\"Actual\")\n",
        "ldos_calculator.read_from_array(predicted_ldos)\n",
        "ax.plot(ldos_calculator.energy_grid, ldos_calculator.density_of_states.copy(), label=\"Predicted\")\n",
        "\n",
        "ax.set_xlabel(\"Energy [eV]\")\n",
        "ax.set_ylabel(\"Density of States [1/eV]\")\n",
        "ax.legend()\n"
      ]
    },
    {
      "cell_type": "markdown",
      "id": "dd833225-a088-44e5-a5d7-582396540b9d",
      "metadata": {
        "id": "dd833225-a088-44e5-a5d7-582396540b9d"
      },
      "source": [
        "IMPROVE NN"
      ]
    },
    {
      "cell_type": "code",
      "execution_count": null,
      "id": "3fcb5cd9-f58b-4753-8206-2224499b31fb",
      "metadata": {
        "id": "3fcb5cd9-f58b-4753-8206-2224499b31fb"
      },
      "outputs": [],
      "source": [
        "parameters = mala.Parameters.load_from_file(r\"/content/Mala-Simulations/mala_parameters_01.json\")"
      ]
    },
    {
      "cell_type": "code",
      "execution_count": null,
      "id": "8edb8aa2-29cf-4b9f-bd57-67a7a1f44f4c",
      "metadata": {
        "id": "8edb8aa2-29cf-4b9f-bd57-67a7a1f44f4c"
      },
      "outputs": [],
      "source": [
        "data_handler = mala.DataHandler(parameters)\n",
        "prop = 0.6 # proportion of training data\n",
        "prop2 = 0.3 #proportion of validation data\n",
        "maxiter = 8 # number of .in snapshots\n",
        "train_data, test_data, validation_data = split_data(maxiter, prop, prop2)\n",
        "print(train_data, test_data, validation_data )\n",
        "for i in range(1, maxiter + 1):\n",
        "    time1 = time.time()\n",
        "    if i in train_data:\n",
        "        data_handler.add_snapshot(f\"Be_snapshot{i}.in.npy\", snapshot_path,\n",
        "                              f\"Be_snapshot{i}.out.npy\", snapshot_path, \"tr\")\n",
        "    elif i in validation_data :\n",
        "        data_handler.add_snapshot(f\"Be_snapshot{i}.in.npy\", snapshot_path,\n",
        "                              f\"Be_snapshot{i}.out.npy\", snapshot_path, \"va\")\n",
        "\n",
        "    print(f\"DONE ADDING DATA ITERATION {i} of {maxiter - 1} in {time.time() - time1:.2f}s\")\n",
        "\n",
        "# This already loads data into RAM!\n",
        "#parameters.data.input_rescaling_type = \"feature-wise-standard\"\n",
        "data_handler.prepare_data()\n",
        "parameters.network.layer_sizes = [data_handler.input_dimension,\n",
        "                                  100,100,\n",
        "                                  data_handler.output_dimension]\n"
      ]
    },
    {
      "cell_type": "code",
      "execution_count": null,
      "id": "0e1d0c84-75df-415e-91f8-befbc0b6a16f",
      "metadata": {
        "id": "0e1d0c84-75df-415e-91f8-befbc0b6a16f"
      },
      "outputs": [],
      "source": [
        "parameters.running.max_number_epochs = 10\n",
        "parameters.running.early_stopping_epochs = 4\n",
        "\n",
        "network = mala.Network(parameters)\n",
        "trainer = mala.Trainer(parameters, network, data_handler)\n",
        "time1 = time.time()\n",
        "trainer.train_network()\n",
        "print(f\"DONE Training Model in {time.time() - time1:.2f}s\")"
      ]
    },
    {
      "cell_type": "code",
      "execution_count": null,
      "id": "c909428c-7f31-4acc-9553-8fe0cf1d98a6",
      "metadata": {
        "id": "c909428c-7f31-4acc-9553-8fe0cf1d98a6"
      },
      "outputs": [],
      "source": [
        "data_handler.clear_data()\n",
        "for i in range(1, maxiter + 1):\n",
        "    if i in test_data:\n",
        "        data_handler.add_snapshot(f\"Be_snapshot{i}.in.npy\", snapshot_path,\n",
        "                              f\"Be_snapshot{i}.out.npy\", snapshot_path, \"te\",\n",
        "                                  calculation_output_file=pj(data_path, f\"Be{i}.pw.out\"))\n",
        "\n",
        "\n",
        "data_handler.prepare_data(reparametrize_scaler=False)\n",
        "tester = mala.Tester(parameters, network, data_handler, observables_to_test=[\"band_energy\"])\n",
        "\n",
        "results = tester.test_all_snapshots()\n",
        "results"
      ]
    },
    {
      "cell_type": "markdown",
      "id": "50a641f0-9dc3-42c1-88f2-9b055ee26aa6",
      "metadata": {
        "id": "50a641f0-9dc3-42c1-88f2-9b055ee26aa6"
      },
      "source": [
        "Now Save Data"
      ]
    },
    {
      "cell_type": "code",
      "execution_count": null,
      "id": "141fa54c-c72e-4774-a86e-45b1056169c9",
      "metadata": {
        "id": "141fa54c-c72e-4774-a86e-45b1056169c9"
      },
      "outputs": [],
      "source": [
        "trainer.save_run(\"Be2_model\")"
      ]
    },
    {
      "cell_type": "code",
      "execution_count": null,
      "id": "1d91767e-31fe-4e02-aa99-3b10f9bf6903",
      "metadata": {
        "id": "1d91767e-31fe-4e02-aa99-3b10f9bf6903"
      },
      "outputs": [],
      "source": [
        "parameters, network, data_handler, tester = mala.Tester.load_run(\"Be2_model\")\n",
        "data_handler.clear_data()\n",
        "data_handler.add_snapshot(f\"Be_snapshot{test_data[0]}.in.npy\", snapshot_path,\n",
        "                              f\"Be_snapshot{test_data[0]}.out.npy\", snapshot_path, \"te\",\n",
        "                                  calculation_output_file=pj(data_path, f\"Be{test_data[0]}.pw.out\"))\n",
        "data_handler.prepare_data(reparametrize_scaler=False)\n",
        "actual_ldos, predicted_ldos = tester.predict_targets(0)\n",
        "ldos_calculator = data_handler.target_calculator\n",
        "ldos_calculator.read_additional_calculation_data(data_handler.get_snapshot_calculation_output(0))\n",
        "\n",
        "fig = plt.figure(figsize=(10,10))\n",
        "ax = fig.add_subplot(1, 1, 1)\n",
        "ldos_calculator.read_from_array(actual_ldos)\n",
        "ax.plot(ldos_calculator.energy_grid, ldos_calculator.density_of_states.copy(), label=\"Actual\")\n",
        "ldos_calculator.read_from_array(predicted_ldos)\n",
        "ax.plot(ldos_calculator.energy_grid, ldos_calculator.density_of_states.copy(), label=\"Predicted\")\n",
        "\n",
        "ax.set_xlabel(\"Energy [eV]\")\n",
        "ax.set_ylabel(\"Density of States [1/eV]\")\n",
        "ax.legend()\n"
      ]
    },
    {
      "cell_type": "markdown",
      "id": "1a3644b9-cec6-4982-ac7d-0f9558476107",
      "metadata": {
        "id": "1a3644b9-cec6-4982-ac7d-0f9558476107"
      },
      "source": [
        "Let's work now in another material"
      ]
    },
    {
      "cell_type": "code",
      "execution_count": null,
      "id": "7f0bf167-3a33-4be5-83b3-ea1b1e671c61",
      "metadata": {
        "id": "7f0bf167-3a33-4be5-83b3-ea1b1e671c61"
      },
      "outputs": [],
      "source": [
        "parameters = mala.Parameters.load_from_file(r\"/content/Mala-Simulations/mala_parameters_01.json\")"
      ]
    },
    {
      "cell_type": "code",
      "execution_count": null,
      "id": "4d103618-ca98-4ac4-86de-9707573d80f2",
      "metadata": {
        "id": "4d103618-ca98-4ac4-86de-9707573d80f2"
      },
      "outputs": [],
      "source": [
        "data_path = r\"/content/Mala-Simulations/original_QE_files/Data_Gen/Si\"\n",
        "snapshot_path =  r\"/content/Mala-Simulations/original_QE_files/Data_Gen/Si/snapshots\""
      ]
    },
    {
      "cell_type": "code",
      "execution_count": null,
      "id": "6bbc7e8e-a6cb-41c8-81db-ab6495c887fc",
      "metadata": {
        "id": "6bbc7e8e-a6cb-41c8-81db-ab6495c887fc"
      },
      "outputs": [],
      "source": [
        "parameters.targets.target_type = \"LDOS\"\n",
        "parameters.targets.ldos_gridsize = 11\n",
        "parameters.targets.ldos_gridspacing_ev = 2.5\n",
        "parameters.targets.ldos_gridoffset_ev = -5\n",
        "ldos_calculator = mala.LDOS.from_numpy_file(parameters, pj(snapshot_path, \"Si_snapshot1.out.npy\"))\n",
        "ldos_calculator.read_additional_calculation_data(pj(data_path, \"Si1.pw.out\"))\n",
        "print(ldos_calculator.density_of_states)\n",
        "print(ldos_calculator.energy_grid)\n",
        "#print(ldos_calculator.density_of_states)"
      ]
    },
    {
      "cell_type": "markdown",
      "id": "58356b5b-8400-4c00-b304-f177b59479bb",
      "metadata": {
        "id": "58356b5b-8400-4c00-b304-f177b59479bb"
      },
      "source": [
        "Let's plot the DOS"
      ]
    },
    {
      "cell_type": "code",
      "execution_count": null,
      "id": "fa6440e4-a937-4c90-aaf2-80d50165bb6a",
      "metadata": {
        "id": "fa6440e4-a937-4c90-aaf2-80d50165bb6a"
      },
      "outputs": [],
      "source": [
        "fig = plt.figure(figsize=(10,10))\n",
        "ax = fig.add_subplot(1, 1, 1)\n",
        "ax.plot(ldos_calculator.energy_grid, ldos_calculator.density_of_states)\n",
        "\n",
        "ax.set_xlabel(\"Energy [eV]\")\n",
        "ax.set_ylabel(\"Density of States [1/eV]\")\n",
        "\n",
        "print(ldos_calculator.band_energy)"
      ]
    },
    {
      "cell_type": "markdown",
      "id": "806b9b54-97a3-4bb0-be49-454eb3ceeb20",
      "metadata": {
        "id": "806b9b54-97a3-4bb0-be49-454eb3ceeb20"
      },
      "source": [
        "Let's create load data and create the NN\n"
      ]
    },
    {
      "cell_type": "code",
      "execution_count": null,
      "id": "05d5688f-9efd-4414-8108-4de1fd79db75",
      "metadata": {
        "id": "05d5688f-9efd-4414-8108-4de1fd79db75"
      },
      "outputs": [],
      "source": [
        "data_handler = mala.DataHandler(parameters)\n",
        "maxiter = 8\n",
        "for i in range(1, maxiter + 1):\n",
        "    time1 = time.time()\n",
        "    if i in train_data:\n",
        "        data_handler.add_snapshot(f\"Si_snapshot{i}.in.npy\", snapshot_path,\n",
        "                              f\"Si_snapshot{i}.out.npy\", snapshot_path, \"tr\")\n",
        "    elif i in validation_data :\n",
        "        data_handler.add_snapshot(f\"Si_snapshot{i}.in.npy\", snapshot_path,\n",
        "                              f\"Si_snapshot{i}.out.npy\", snapshot_path, \"va\")\n",
        "    else:\n",
        "        data_handler.add_snapshot(f\"Si_snapshot{i}.in.npy\", snapshot_path,\n",
        "                              f\"Si_snapshot{i}.out.npy\", snapshot_path, \"te\",\n",
        "                                  calculation_output_file=pj(data_path, f\"Si{i}.pw.out\"))\n",
        "    print(f\"DONE ADDING DATA ITERATION {i} of {maxiter - 1} in {time.time() - time1:.2f}s\")\n",
        "\n",
        "# This already loads data into RAM!\n",
        "data_handler.prepare_data()\n",
        "parameters.network.layer_sizes = [data_handler.input_dimension,\n",
        "                                  100,\n",
        "                                  data_handler.output_dimension]"
      ]
    },
    {
      "cell_type": "code",
      "execution_count": null,
      "id": "9196cbbc-5729-41e6-891f-4fcd7da09fda",
      "metadata": {
        "id": "9196cbbc-5729-41e6-891f-4fcd7da09fda"
      },
      "outputs": [],
      "source": [
        "parameters.running.max_number_epochs = 10\n",
        "network = mala.Network(parameters)\n",
        "time1 = time.time()\n",
        "trainer = mala.Trainer(parameters, network, data_handler)\n",
        "trainer.train_network()\n",
        "print(f\"DONE Training Model in {time.time() - time1:.2f}s\")"
      ]
    },
    {
      "cell_type": "code",
      "execution_count": null,
      "id": "d8317ebe-2344-4580-b70f-ac5efef41d41",
      "metadata": {
        "id": "d8317ebe-2344-4580-b70f-ac5efef41d41"
      },
      "outputs": [],
      "source": [
        "data_handler.clear_data()\n",
        "for i in range(1, maxiter + 1):\n",
        "    if i in test_data:\n",
        "        data_handler.add_snapshot(f\"Si_snapshot{i}.in.npy\", snapshot_path,\n",
        "                              f\"Si_snapshot{i}.out.npy\", snapshot_path, \"te\",\n",
        "                                  calculation_output_file=pj(data_path, f\"Si{i}.pw.out\"))\n",
        "\n",
        "\n",
        "data_handler.prepare_data(reparametrize_scaler=False)\n",
        "tester = mala.Tester(parameters, network, data_handler, observables_to_test=[\"band_energy\"])\n",
        "\n",
        "results = tester.test_all_snapshots()\n",
        "results"
      ]
    },
    {
      "cell_type": "code",
      "execution_count": null,
      "id": "22d08b3a-094e-4622-a4c4-3c7fd600060d",
      "metadata": {
        "id": "22d08b3a-094e-4622-a4c4-3c7fd600060d"
      },
      "outputs": [],
      "source": []
    },
    {
      "cell_type": "code",
      "execution_count": null,
      "id": "623a90a0-0b24-44b1-add5-a29826b99f22",
      "metadata": {
        "id": "623a90a0-0b24-44b1-add5-a29826b99f22"
      },
      "outputs": [],
      "source": [
        "trainer.save_run(\"Si3_model\")"
      ]
    },
    {
      "cell_type": "code",
      "execution_count": null,
      "id": "d6925243-6fac-436a-9e67-630cc7a23946",
      "metadata": {
        "id": "d6925243-6fac-436a-9e67-630cc7a23946"
      },
      "outputs": [],
      "source": [
        "parameters, network, data_handler, tester = mala.Tester.load_run(\"Si3_model\")\n",
        "data_handler.clear_data()\n",
        "data_handler.add_snapshot(f\"Si_snapshot{test_data[0]}.in.npy\", snapshot_path,\n",
        "                              f\"Si_snapshot{test_data[0]}.out.npy\", snapshot_path, \"te\",\n",
        "                                  calculation_output_file=pj(data_path, f\"Si{test_data[0]}.pw.out\"))\n",
        "data_handler.prepare_data(reparametrize_scaler=False)\n",
        "actual_ldos, predicted_ldos = tester.predict_targets(0)\n",
        "ldos_calculator = data_handler.target_calculator\n",
        "ldos_calculator.read_additional_calculation_data(data_handler.get_snapshot_calculation_output(0))\n",
        "\n",
        "fig = plt.figure(figsize=(10,10))\n",
        "ax = fig.add_subplot(1, 1, 1)\n",
        "ldos_calculator.read_from_array(actual_ldos)\n",
        "ax.plot(ldos_calculator.energy_grid, ldos_calculator.density_of_states.copy(), label=\"Actual\")\n",
        "ldos_calculator.read_from_array(predicted_ldos)\n",
        "ax.plot(ldos_calculator.energy_grid, ldos_calculator.density_of_states.copy(), label=\"Predicted\")\n",
        "\n",
        "ax.set_xlabel(\"Energy [eV]\")\n",
        "ax.set_ylabel(\"Density of States [1/eV]\")\n",
        "ax.legend()\n"
      ]
    },
    {
      "cell_type": "code",
      "execution_count": null,
      "id": "dcdc3388-61a6-4af7-bde7-9bc453a8fe6e",
      "metadata": {
        "id": "dcdc3388-61a6-4af7-bde7-9bc453a8fe6e"
      },
      "outputs": [],
      "source": [
        "data_handler = mala.DataHandler(parameters)\n",
        "maxiter = 8\n",
        "for i in range(1, maxiter + 1):\n",
        "    time1 = time.time()\n",
        "    if i in train_data:\n",
        "        data_handler.add_snapshot(f\"Si_snapshot{i}.in.npy\", snapshot_path,\n",
        "                              f\"Si_snapshot{i}.out.npy\", snapshot_path, \"tr\")\n",
        "    elif i in validation_data :\n",
        "        data_handler.add_snapshot(f\"Si_snapshot{i}.in.npy\", snapshot_path,\n",
        "                              f\"Si_snapshot{i}.out.npy\", snapshot_path, \"va\")\n",
        "    else:\n",
        "        data_handler.add_snapshot(f\"Si_snapshot{i}.in.npy\", snapshot_path,\n",
        "                              f\"Si_snapshot{i}.out.npy\", snapshot_path, \"te\",\n",
        "                                  calculation_output_file=pj(data_path, f\"Si{i}.pw.out\"))\n",
        "    print(f\"DONE ADDING DATA ITERATION {i} of {maxiter - 1} in {time.time() - time1:.2f}s\")\n",
        "\n",
        "# This already loads data into RAM!\n",
        "data_handler.prepare_data()\n"
      ]
    },
    {
      "cell_type": "code",
      "execution_count": null,
      "id": "b5c6184e-46c9-4fb4-8c2e-b0af1bba5d59",
      "metadata": {
        "id": "b5c6184e-46c9-4fb4-8c2e-b0af1bba5d59"
      },
      "outputs": [],
      "source": [
        "parameters.network.layer_sizes = [data_handler.input_dimension,\n",
        "                                  500,\n",
        "                                  data_handler.output_dimension]\n",
        "parameters.running.early_stopping_epochs = 4\n",
        "parameters.running.learning_rate = 0.6\n",
        "#parameters.data.input_rescaling_type = \"feature-wise-standard\"\n",
        "\n",
        "parameters.running.max_number_epochs = 10\n",
        "network = mala.Network(parameters)\n",
        "trainer = mala.Trainer(parameters, network, data_handler)\n",
        "time1 = time.time()\n",
        "trainer.train_network()\n",
        "print(f\"DONE Training Model in {time.time() - time1:.2f}s\")"
      ]
    },
    {
      "cell_type": "code",
      "execution_count": null,
      "id": "65e03884-448c-473b-9e15-f8a2c1395e45",
      "metadata": {
        "id": "65e03884-448c-473b-9e15-f8a2c1395e45"
      },
      "outputs": [],
      "source": [
        "parameters.targets.target_type = \"LDOS\"\n",
        "parameters.targets.ldos_gridsize = 11\n",
        "parameters.targets.ldos_gridspacing_ev = 2.5\n",
        "parameters.targets.ldos_gridoffset_ev = -5\n",
        "data_handler.clear_data()\n",
        "for i in range(1, maxiter + 1):\n",
        "    if i in test_data:\n",
        "        data_handler.add_snapshot(f\"Si_snapshot{i}.in.npy\", snapshot_path,\n",
        "                              f\"Si_snapshot{i}.out.npy\", snapshot_path, \"te\",\n",
        "                                  calculation_output_file=pj(data_path, f\"Si{i}.pw.out\"))\n",
        "\n",
        "\n",
        "data_handler.prepare_data(reparametrize_scaler=False)\n",
        "tester = mala.Tester(parameters, network, data_handler, observables_to_test=[\"band_energy\"])\n",
        "\n",
        "results = tester.test_all_snapshots()\n",
        "results"
      ]
    },
    {
      "cell_type": "markdown",
      "id": "fd838d04-a263-4744-8e15-ac8ef4e3efd6",
      "metadata": {
        "id": "fd838d04-a263-4744-8e15-ac8ef4e3efd6"
      },
      "source": [
        "Let's Save the file"
      ]
    },
    {
      "cell_type": "code",
      "execution_count": null,
      "id": "6f8912f2-d4e0-47ea-8e55-2e304948f052",
      "metadata": {
        "id": "6f8912f2-d4e0-47ea-8e55-2e304948f052"
      },
      "outputs": [],
      "source": [
        "trainer.save_run(\"Si4_model\")"
      ]
    },
    {
      "cell_type": "code",
      "execution_count": null,
      "id": "26d70757-c79e-445a-8bcd-a619050f8b0b",
      "metadata": {
        "id": "26d70757-c79e-445a-8bcd-a619050f8b0b"
      },
      "outputs": [],
      "source": [
        "parameters, network, data_handler, tester = mala.Tester.load_run(\"Si3_model\")\n",
        "data_handler.clear_data()\n",
        "data_handler.add_snapshot(f\"Si_snapshot{test_data[0]}.in.npy\", snapshot_path,\n",
        "                              f\"Si_snapshot{test_data[0]}.out.npy\", snapshot_path, \"te\",\n",
        "                                  calculation_output_file=pj(data_path, f\"Si{test_data[0]}.pw.out\"))\n",
        "data_handler.prepare_data(reparametrize_scaler=False)\n",
        "actual_ldos, predicted_ldos = tester.predict_targets(0)\n",
        "ldos_calculator = data_handler.target_calculator\n",
        "ldos_calculator.read_additional_calculation_data(data_handler.get_snapshot_calculation_output(0))\n",
        "\n",
        "fig = plt.figure(figsize=(10,10))\n",
        "ax = fig.add_subplot(1, 1, 1)\n",
        "ldos_calculator.read_from_array(actual_ldos)\n",
        "ax.plot(ldos_calculator.energy_grid, ldos_calculator.density_of_states.copy(), label=\"Actual\")\n",
        "ldos_calculator.read_from_array(predicted_ldos)\n",
        "ax.plot(ldos_calculator.energy_grid, ldos_calculator.density_of_states.copy(), label=\"Predicted\")\n",
        "\n",
        "ax.set_xlabel(\"Energy [eV]\")\n",
        "ax.set_ylabel(\"Density of States [1/eV]\")\n",
        "ax.legend()"
      ]
    },
    {
      "cell_type": "code",
      "execution_count": null,
      "id": "d6d66a44-4fd8-48d2-88da-79bba479fef9",
      "metadata": {
        "id": "d6d66a44-4fd8-48d2-88da-79bba479fef9"
      },
      "outputs": [],
      "source": []
    }
  ],
  "metadata": {
    "kernelspec": {
      "display_name": "Python 3",
      "name": "python3"
    },
    "language_info": {
      "codemirror_mode": {
        "name": "ipython",
        "version": 3
      },
      "file_extension": ".py",
      "mimetype": "text/x-python",
      "name": "python",
      "nbconvert_exporter": "python",
      "pygments_lexer": "ipython3",
      "version": "3.12.3"
    },
    "colab": {
      "provenance": [],
      "gpuType": "T4",
      "include_colab_link": true
    },
    "accelerator": "GPU"
  },
  "nbformat": 4,
  "nbformat_minor": 5
}