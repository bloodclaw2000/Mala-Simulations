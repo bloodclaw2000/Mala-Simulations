{
 "cells": [
  {
   "cell_type": "markdown",
   "id": "6d450e9d-7820-4c86-b370-93be94b97a54",
   "metadata": {},
   "source": [
    "Loading the modules"
   ]
  },
  {
   "cell_type": "code",
   "execution_count": 50,
   "id": "a87a79b8-99e9-4479-852b-a40812ed25d4",
   "metadata": {},
   "outputs": [],
   "source": [
    "# MALA itself.\n",
    "\n",
    "import mala\n",
    "\n",
    "# We would like to visualize simple plots.\n",
    "# The font size can sometimes be a bit small for Jupyter Notebooks.\n",
    "\n",
    "import matplotlib\n",
    "import matplotlib.pyplot as plt\n",
    "font = {'size'   : 22}\n",
    "matplotlib.rc('font', **font)\n",
    "\n",
    "# For the data paths.\n",
    "from os.path import join as pj\n",
    "\n",
    "# Only for the prediction down below.\n",
    "from ase.io import read\n",
    "\n",
    "# To do some timings down below.\n",
    "from time import time\n",
    "import numpy as np\n",
    "import mala\n",
    "import subprocess\n",
    "import ase\n",
    "import ase.io.espresso\n",
    "from ase import Atoms\n",
    "from ase.visualize import view\n",
    "import os\n",
    "from os.path import join as pj\n",
    "import matplotlib.pyplot as plt\n",
    "import re\n",
    "import random\n",
    "import time"
   ]
  },
  {
   "cell_type": "markdown",
   "id": "8551b80d-774c-45b4-8697-534d8593e594",
   "metadata": {},
   "source": [
    "MALA data generation can be performed with the Quantum ESPRESSO package. Some changes to this open source package were necessary to enable the correct sampling of the LDOS. The current development branch of Quantum ESPRESSO includes those - beginning with Quantum ESPRESSO version 7.2 (to be released in ~June 2023) users can simply download the latest QE version and perform data generation.\n",
    "\n",
    "Data generation is two-fold: First, one creates a set of atomic position via a regular DFT-MD simulation at the conditions of interest. This can be done with any suitable code, such as VASP, QE, etc. Secondly, one performs DFT simulations to access the LDOS.\n",
    "\n",
    "The test system  here will be a simply beryllium system at room temperature consisting of 2 beryllium atoms. Atomic configurations have been sampled beforehand. We will start with the DFT simulation. "
   ]
  },
  {
   "cell_type": "markdown",
   "id": "d2832242-7d13-47a9-a096-8be39f9e7fab",
   "metadata": {},
   "source": [
    "Write hundreds of lines of parameter statement in each python script is not exactly maintainable. Therefore MALA provides a .json interface.\n"
   ]
  },
  {
   "cell_type": "code",
   "execution_count": 51,
   "id": "e6065b04-078e-4756-8259-a0cb2656dc8d",
   "metadata": {},
   "outputs": [],
   "source": [
    "parameters = mala.Parameters.load_from_file(\"mala_parameters_01.json\")"
   ]
  },
  {
   "cell_type": "code",
   "execution_count": 52,
   "id": "27c2d76e-b9f8-4511-9604-99414dc6c408",
   "metadata": {},
   "outputs": [
    {
     "name": "stdout",
     "output_type": "stream",
     "text": [
      "---     All parameter MALA needs to perform its various tasks. ---\n",
      "comment        : My first parameters.\n",
      "manual_seed    : None\n",
      "use_gpu        : True\n",
      "device         : cuda:0\n",
      "use_horovod    : False\n",
      "use_mpi        : False\n",
      "verbosity      : 1\n",
      "openpmd_configuration: {}\n",
      "openpmd_granularity: 1\n",
      "use_lammps     : True\n",
      "---     Parameters necessary for constructing a neural network. ---\n",
      "\tnn_type        : feed-forward\n",
      "\tlayer_sizes    : [10, 10, 10]\n",
      "\tlayer_activations: ['Sigmoid']\n",
      "\tloss_function_type: mse\n",
      "\tnum_hidden_layers: 1\n",
      "\tno_hidden_state: False\n",
      "\tbidirection    : False\n",
      "\tdropout        : 0.1\n",
      "\tnum_heads      : 10\n",
      "---     Parameters necessary for calculating/parsing input descriptors. ---\n",
      "\tdescriptor_type: Bispectrum\n",
      "\tlammps_compute_file: \n",
      "\tdescriptors_contain_xyz: True\n",
      "\tuse_z_splitting: True\n",
      "\tnumber_y_planes: 0\n",
      "\tbispectrum_twojmax: 10\n",
      "\trcutfac        : 4.67637\n",
      "\tatomic_density_cutoff: 4.67637\n",
      "\tsnap_switchflag: 1\n",
      "\tuse_atomic_density_energy_formula: False\n",
      "\tatomic_density_sigma: None\n",
      "\tminterpy_point_list: []\n",
      "\tminterpy_cutoff_cube_size: 0.0\n",
      "\tminterpy_polynomial_degree: 4\n",
      "\tminterpy_lp_norm: 2\n",
      "---     Parameters necessary for calculating/parsing output quantites. ---\n",
      "\ttarget_type    : LDOS\n",
      "\tldos_gridsize  : 0\n",
      "\tldos_gridspacing_ev: 0\n",
      "\tldos_gridoffset_ev: 0\n",
      "\trestrict_targets: zero_out_negative\n",
      "\tpseudopotential_path: None\n",
      "\trdf_parameters : {'number_of_bins': 500, 'rMax': 'mic'}\n",
      "\ttpcf_parameters: {'number_of_bins': 20, 'rMax': 'mic'}\n",
      "\tssf_parameters : {'number_of_bins': 100, 'kMax': 12.0}\n",
      "---     Parameters necessary for loading and preprocessing data. ---\n",
      "\tsnapshot_directories_list: []\n",
      "\tdata_splitting_type: by_snapshot\n",
      "\tinput_rescaling_type: None\n",
      "\toutput_rescaling_type: None\n",
      "\tuse_lazy_loading: False\n",
      "\tuse_lazy_loading_prefetch: False\n",
      "\tuse_fast_tensor_data_set: False\n",
      "\tshuffling_seed : None\n",
      "---     Parameters needed for network runs (train, test or inference). ---\n",
      "\ttrainingtype   : SGD\n",
      "\tlearning_rate  : 0.5\n",
      "\tmax_number_epochs: 100\n",
      "\tverbosity      : True\n",
      "\tmini_batch_size: 10\n",
      "\tweight_decay   : 0\n",
      "\tearly_stopping_epochs: 0\n",
      "\tearly_stopping_threshold: 0\n",
      "\tlearning_rate_scheduler: None\n",
      "\tlearning_rate_decay: 0.1\n",
      "\tlearning_rate_patience: 0\n",
      "\tuse_compression: False\n",
      "\tnum_workers    : 0\n",
      "\tuse_shuffling_for_samplers: True\n",
      "\tcheckpoints_each_epoch: 0\n",
      "\tcheckpoint_name: checkpoint_mala\n",
      "\tvisualisation  : 0\n",
      "\tvisualisation_dir: .\\mala_logging\n",
      "\tvisualisation_dir_append_date: True\n",
      "\tduring_training_metric: ldos\n",
      "\tafter_before_training_metric: ldos\n",
      "\tinference_data_grid: [0, 0, 0]\n",
      "\tuse_mixed_precision: False\n",
      "\tuse_graphs     : False\n",
      "\ttraining_report_frequency: 1000\n",
      "\tprofiler_range : None\n",
      "---     Hyperparameter optimization parameters. ---\n",
      "\tdirection      : minimize\n",
      "\tn_trials       : 100\n",
      "\thyper_opt_method: optuna\n",
      "\tcheckpoints_each_trial: 0\n",
      "\tcheckpoint_name: checkpoint_mala_ho\n",
      "\tstudy_name     : None\n",
      "\trdb_storage    : None\n",
      "\trdb_storage_heartbeat: None\n",
      "\tnumber_training_per_trial: 1\n",
      "\ttrial_ensemble_evaluation: mean\n",
      "\tuse_multivariate: True\n",
      "\tnaswot_pruner_cutoff: 0\n",
      "\tpruner         : None\n",
      "\tnaswot_pruner_batch_size: 0\n",
      "\tnumber_bad_trials_before_stopping: None\n",
      "\tsqlite_timeout : 600\n",
      "\tacsd_points    : 100\n",
      "---     All parameters to help with data generation. ---\n",
      "\ttrajectory_analysis_denoising_width: 100\n",
      "\ttrajectory_analysis_below_average_counter: 50\n",
      "\ttrajectory_analysis_estimated_equilibrium: 0.1\n",
      "\ttrajectory_analysis_correlation_metric_cutoff: -0.1\n",
      "\ttrajectory_analysis_temperature_tolerance_percent: 1\n",
      "\tlocal_psp_path : None\n",
      "\tlocal_psp_name : None\n",
      "\tofdft_timestep : 0\n",
      "\tofdft_number_of_timesteps: 0\n",
      "\tofdft_temperature: 0\n",
      "\tofdft_kedf     : WT\n",
      "\tofdft_friction : 0.1\n"
     ]
    }
   ],
   "source": [
    "parameters.show()"
   ]
  },
  {
   "cell_type": "code",
   "execution_count": 72,
   "id": "2cd5fb1f-267b-4a48-97a6-988c045d31a3",
   "metadata": {},
   "outputs": [],
   "source": [
    "data_path = r\"C:\\Users\\Pablo\\Documents\\Fisica\\Master\\Simulacion Materiales\\content\\Data_Gen\\Be\"\n",
    "snapshot_path =  r\"C:\\Users\\Pablo\\Documents\\Fisica\\Master\\Simulacion Materiales\\content\\Data_Gen\\Be\\snapshots\""
   ]
  },
  {
   "cell_type": "markdown",
   "id": "05dcbc36-fea8-403c-8532-bf0c5663c4a4",
   "metadata": {},
   "source": [
    "We'll now convert the data to MALA DATA (maxiter must be the same as QE files) \n",
    "THIS WILL TAKE LONG AS FUCK because no LAMMPS, be warned. There is a multiproccesing script in Github"
   ]
  },
  {
   "cell_type": "code",
   "execution_count": 73,
   "id": "c0da0399-e219-4477-8a21-00f20673d992",
   "metadata": {},
   "outputs": [
    {
     "name": "stdout",
     "output_type": "stream",
     "text": [
      "DONE ADDING DATA ITERATION 1 of 7 in 0.00s\n",
      "DONE ADDING DATA ITERATION 2 of 7 in 0.00s\n",
      "DONE ADDING DATA ITERATION 3 of 7 in 0.00s\n",
      "DONE ADDING DATA ITERATION 4 of 7 in 0.00s\n",
      "DONE ADDING DATA ITERATION 5 of 7 in 0.00s\n",
      "DONE ADDING DATA ITERATION 6 of 7 in 0.00s\n",
      "DONE ADDING DATA ITERATION 7 of 7 in 0.00s\n",
      "CONVERTING SNAPSHOTS\n",
      "Calculating descriptors from C:\\Users\\Pablo\\Documents\\Fisica\\Master\\Simulacion Materiales\\content\\Data_Gen\\Be\\Be1.pw.out\n",
      "No LAMMPS found for descriptor calculation, falling back to python.\n",
      "Using python for descriptor calculation. The resulting calculation will be slow for large systems.\n"
     ]
    },
    {
     "name": "stderr",
     "output_type": "stream",
     "text": [
      "\n",
      "KeyboardInterrupt\n",
      "\n"
     ]
    }
   ],
   "source": [
    "data_converter = mala.DataConverter(parameters)\n",
    "maxiter = 8\n",
    "for i in range(1, maxiter):\n",
    "    time1 = time.time()\n",
    "    data_converter.add_snapshot(descriptor_input_type=\"espresso-out\",\n",
    "                                descriptor_input_path=os.path.join(data_path,f\"Be{i}.pw.out\"),\n",
    "                                target_input_type=\".cube\",\n",
    "                                target_input_path=os.path.join(f\"tmp.pp0*Be{i}_ldos.cube\"))\n",
    "    print(f\"DONE ADDING DATA ITERATION {i} of {maxiter - 1} in {time.time() - time1:.2f}s\")\n",
    "print(\"CONVERTING SNAPSHOTS\")\n",
    "time1 = time.time()\n",
    "data_converter.convert_snapshots(\"./snapshots/\", naming_scheme=\"Be_snapshot*.npy\")\n"
   ]
  },
  {
   "cell_type": "code",
   "execution_count": null,
   "id": "d9f14107-12d4-4113-8ebd-69404f28ea20",
   "metadata": {},
   "outputs": [],
   "source": []
  },
  {
   "cell_type": "markdown",
   "id": "f5312424-aae2-437f-a4f5-5a2381babd22",
   "metadata": {},
   "source": [
    "Visualizing and reproducing output data\n",
    "\n",
    "Before we train a model, it is a good idea to think about which metric is important, i.e., how do we test if a model is good?\n",
    "\n",
    "In essence, the advantage of MALA is the access to multiple observables. Two easily accesible metrics are the density of states (DOS) and the band energy. We will now learn how to calculate them from the LDOS (the actual DFT LDOS in this case) so we can do the same after model training to test our models.\n",
    "\n",
    "For this, we first have to make sure the correct LDOS parameters are used.\n"
   ]
  },
  {
   "cell_type": "code",
   "execution_count": 74,
   "id": "d7a8d66f-74bc-4669-ba05-25e10c371897",
   "metadata": {},
   "outputs": [],
   "source": [
    "parameters.targets.target_type = \"LDOS\"\n",
    "parameters.targets.ldos_gridsize = 11\n",
    "parameters.targets.ldos_gridspacing_ev = 2.5\n",
    "parameters.targets.ldos_gridoffset_ev = -5"
   ]
  },
  {
   "cell_type": "markdown",
   "id": "6c667e37-7468-406b-afbc-a69d805a9a5d",
   "metadata": {},
   "source": [
    "Now we can create an LDOS calculator and directly populate it with the LDOS data from the data set."
   ]
  },
  {
   "cell_type": "code",
   "execution_count": 85,
   "id": "60aef8fd-2dfd-49a1-9142-2942910e37be",
   "metadata": {},
   "outputs": [],
   "source": [
    "ldos_calculator = mala.LDOS.from_numpy_file(parameters, pj(snapshot_path, \"Be_snapshot1.out.npy\"))\n"
   ]
  },
  {
   "cell_type": "markdown",
   "id": "5cc62447-c9ff-4477-a430-f040e505601f",
   "metadata": {},
   "source": [
    "Afterwards, we have to read in some additional information from the simulation data (size of the real space grid, temperature, etc.)."
   ]
  },
  {
   "cell_type": "code",
   "execution_count": 86,
   "id": "a0ff59e8-e55e-4c89-b595-7c6f49177cc8",
   "metadata": {},
   "outputs": [
    {
     "name": "stdout",
     "output_type": "stream",
     "text": [
      "[0.30867848 0.40815389 0.50501234 0.58352213 0.63074861 0.63961693\n",
      " 0.60908288 0.54389667 0.45474118 0.35631671 0.26284809]\n",
      "[-5.  -2.5  0.   2.5  5.   7.5 10.  12.5 15.  17.5 20. ]\n"
     ]
    }
   ],
   "source": [
    "ldos_calculator.read_additional_calculation_data(pj(data_path, \"Be1.pw.out\"))\n",
    "print(ldos_calculator.density_of_states)\n",
    "print(ldos_calculator.energy_grid)\n",
    "#print(ldos_calculator.density_of_states)"
   ]
  },
  {
   "cell_type": "markdown",
   "id": "1d249fe7-b05d-463b-b469-6e1387754caa",
   "metadata": {},
   "source": [
    "Now we can access the DOS and the band energy as properties of the calculator object."
   ]
  },
  {
   "cell_type": "code",
   "execution_count": 87,
   "id": "896a6ba1-7356-4315-b4ca-d6617b5c3675",
   "metadata": {},
   "outputs": [
    {
     "name": "stdout",
     "output_type": "stream",
     "text": [
      "-4.613344314276244\n"
     ]
    },
    {
     "data": {
      "image/png": "[encoded data removed]",
      "text/plain": [
       "<Figure size 1000x1000 with 1 Axes>"
      ]
     },
     "metadata": {},
     "output_type": "display_data"
    }
   ],
   "source": [
    "fig = plt.figure(figsize=(10,10))\n",
    "ax = fig.add_subplot(1, 1, 1)\n",
    "ax.plot(ldos_calculator.energy_grid, ldos_calculator.density_of_states)\n",
    "\n",
    "ax.set_xlabel(\"Energy [eV]\")\n",
    "ax.set_ylabel(\"Density of States [1/eV]\")\n",
    "\n",
    "print(ldos_calculator.band_energy)"
   ]
  },
  {
   "cell_type": "code",
   "execution_count": 123,
   "id": "aaa23e83-72aa-4b25-bf30-b6ca30118bba",
   "metadata": {},
   "outputs": [],
   "source": [
    "parameters.verbosity = 2\n",
    "parameters.manual_seed = 2024"
   ]
  },
  {
   "cell_type": "markdown",
   "id": "029b9f30-cb29-4d9b-b643-22d0ad49fd8d",
   "metadata": {},
   "source": [
    "Now we have to add data, we have to choose between training and test data"
   ]
  },
  {
   "cell_type": "code",
   "execution_count": 129,
   "id": "71b86deb-5238-42aa-a7e1-db21004e398c",
   "metadata": {},
   "outputs": [
    {
     "name": "stdout",
     "output_type": "stream",
     "text": [
      "[6 3 1 8] [5 2 4] [2 4 7]\n"
     ]
    }
   ],
   "source": [
    "prop = 0.6\n",
    "prop2 = 0.2\n",
    "maxiter = 8\n",
    "def split_data(data):\n",
    "    random.shuffle(data)  # Shuffle the data randomly\n",
    "    split_80 = int(len(data) * prop)  # Calculate the index for the 80% split\n",
    "    split_20 = int(len(data) * prop2)  # Calculate the index for the 20% split\n",
    "    train_data = data[:split_80]  # Extract the first 80% of the shuffled data\n",
    "    test_data = data[split_80:split_80+split_20 + 2]  # Extract the next 20% of the shuffled data\n",
    "    validation_data = data[split_80+split_20:]  # Extract the remaining 20% of the shuffled data\n",
    "    return train_data, test_data, validation_data\n",
    "    \n",
    "indexes = np.arange (1,maxiter +1)\n",
    "train_data, test_data, validation_data = split_data(indexes)\n",
    "print(train_data, test_data, validation_data )"
   ]
  },
  {
   "cell_type": "code",
   "execution_count": 130,
   "id": "ecd2a10f-92d7-4158-85c9-6ddbc1824455",
   "metadata": {},
   "outputs": [
    {
     "name": "stdout",
     "output_type": "stream",
     "text": [
      "No data rescaling will be performed.\n",
      "No data rescaling will be performed.\n",
      "DONE ADDING DATA ITERATION 1 of 7 in 0.00s\n",
      "DONE ADDING DATA ITERATION 2 of 7 in 0.00s\n",
      "DONE ADDING DATA ITERATION 3 of 7 in 0.00s\n",
      "DONE ADDING DATA ITERATION 4 of 7 in 0.00s\n",
      "DONE ADDING DATA ITERATION 5 of 7 in 0.00s\n",
      "DONE ADDING DATA ITERATION 6 of 7 in 0.00s\n",
      "DONE ADDING DATA ITERATION 7 of 7 in 0.00s\n",
      "DONE ADDING DATA ITERATION 8 of 7 in 0.00s\n",
      "Checking the snapshots and your inputs for consistency.\n",
      "Checking descriptor file  Be_snapshot1.in.npy at C:\\Users\\Pablo\\Documents\\Fisica\\Master\\Simulacion Materiales\\content\\Data_Gen\\Be\\snapshots\n",
      "Checking targets file  Be_snapshot1.out.npy at C:\\Users\\Pablo\\Documents\\Fisica\\Master\\Simulacion Materiales\\content\\Data_Gen\\Be\\snapshots\n",
      "Checking descriptor file  Be_snapshot2.in.npy at C:\\Users\\Pablo\\Documents\\Fisica\\Master\\Simulacion Materiales\\content\\Data_Gen\\Be\\snapshots\n",
      "Checking targets file  Be_snapshot2.out.npy at C:\\Users\\Pablo\\Documents\\Fisica\\Master\\Simulacion Materiales\\content\\Data_Gen\\Be\\snapshots\n",
      "Checking descriptor file  Be_snapshot3.in.npy at C:\\Users\\Pablo\\Documents\\Fisica\\Master\\Simulacion Materiales\\content\\Data_Gen\\Be\\snapshots\n",
      "Checking targets file  Be_snapshot3.out.npy at C:\\Users\\Pablo\\Documents\\Fisica\\Master\\Simulacion Materiales\\content\\Data_Gen\\Be\\snapshots\n",
      "Checking descriptor file  Be_snapshot4.in.npy at C:\\Users\\Pablo\\Documents\\Fisica\\Master\\Simulacion Materiales\\content\\Data_Gen\\Be\\snapshots\n",
      "Checking targets file  Be_snapshot4.out.npy at C:\\Users\\Pablo\\Documents\\Fisica\\Master\\Simulacion Materiales\\content\\Data_Gen\\Be\\snapshots\n",
      "Checking descriptor file  Be_snapshot5.in.npy at C:\\Users\\Pablo\\Documents\\Fisica\\Master\\Simulacion Materiales\\content\\Data_Gen\\Be\\snapshots\n",
      "Checking targets file  Be_snapshot5.out.npy at C:\\Users\\Pablo\\Documents\\Fisica\\Master\\Simulacion Materiales\\content\\Data_Gen\\Be\\snapshots\n",
      "Checking descriptor file  Be_snapshot6.in.npy at C:\\Users\\Pablo\\Documents\\Fisica\\Master\\Simulacion Materiales\\content\\Data_Gen\\Be\\snapshots\n",
      "Checking targets file  Be_snapshot6.out.npy at C:\\Users\\Pablo\\Documents\\Fisica\\Master\\Simulacion Materiales\\content\\Data_Gen\\Be\\snapshots\n",
      "Checking descriptor file  Be_snapshot7.in.npy at C:\\Users\\Pablo\\Documents\\Fisica\\Master\\Simulacion Materiales\\content\\Data_Gen\\Be\\snapshots\n",
      "Checking targets file  Be_snapshot7.out.npy at C:\\Users\\Pablo\\Documents\\Fisica\\Master\\Simulacion Materiales\\content\\Data_Gen\\Be\\snapshots\n",
      "Checking descriptor file  Be_snapshot8.in.npy at C:\\Users\\Pablo\\Documents\\Fisica\\Master\\Simulacion Materiales\\content\\Data_Gen\\Be\\snapshots\n",
      "Checking targets file  Be_snapshot8.out.npy at C:\\Users\\Pablo\\Documents\\Fisica\\Master\\Simulacion Materiales\\content\\Data_Gen\\Be\\snapshots\n",
      "Consistency check successful.\n",
      "Initializing the data scalers.\n",
      "Input scaler parametrized.\n",
      "Output scaler parametrized.\n",
      "Data scalers initialized.\n",
      "Build datasets.\n",
      "Build dataset: Done.\n"
     ]
    }
   ],
   "source": [
    "data_handler = mala.DataHandler(parameters)\n",
    "\n",
    "for i in range(1, maxiter + 1):\n",
    "    time1 = time.time()\n",
    "    if i in train_data:\n",
    "        data_handler.add_snapshot(f\"Be_snapshot{i}.in.npy\", snapshot_path,\n",
    "                              f\"Be_snapshot{i}.out.npy\", snapshot_path, \"tr\")\n",
    "    elif i in validation_data :\n",
    "        data_handler.add_snapshot(f\"Be_snapshot{i}.in.npy\", snapshot_path,\n",
    "                              f\"Be_snapshot{i}.out.npy\", snapshot_path, \"va\")\n",
    "    else:\n",
    "        data_handler.add_snapshot(f\"Be_snapshot{i}.in.npy\", snapshot_path,\n",
    "                              f\"Be_snapshot{i}.out.npy\", snapshot_path, \"te\",\n",
    "                                  calculation_output_file=pj(data_path, f\"Be{i}.pw.out\"))\n",
    "    print(f\"DONE ADDING DATA ITERATION {i} of {maxiter - 1} in {time.time() - time1:.2f}s\")\n",
    "\n",
    "# This already loads data into RAM!\n",
    "data_handler.prepare_data()\n",
    "parameters.network.layer_sizes = [data_handler.input_dimension,\n",
    "                                  100,\n",
    "                                  data_handler.output_dimension]"
   ]
  },
  {
   "cell_type": "markdown",
   "id": "c4bfce7a-48ac-402f-97b9-6621a816a8ad",
   "metadata": {},
   "source": [
    "Now we  can train the Network"
   ]
  },
  {
   "cell_type": "code",
   "execution_count": 132,
   "id": "a998b01c-874e-4f0a-9c93-1af84681ccc3",
   "metadata": {},
   "outputs": [
    {
     "name": "stdout",
     "output_type": "stream",
     "text": [
      "batch 1000, validation avg time: 0.0008132367134094238 validation avg throughput: 12296.542734864826\n",
      "batch 2000, validation avg time: 0.0008361880779266357 validation avg throughput: 11959.032021594268\n",
      "Initial Guess - validation data loss:  0.2358542238809042\n",
      "Initial Guess - test data loss:  0.23817811754014756\n",
      "batch 1000, train avg time: 0.0019230849742889404 train avg throughput: 5199.97822961385\n",
      "batch 2000, train avg time: 0.0019225785732269287 train avg throughput: 5201.347887288487\n",
      "batch 3000, train avg time: 0.0019070737361907958 train avg throughput: 5243.635739000883\n",
      "training time: 7.150609493255615\n",
      "batch 1000, validation avg time: 0.0008702895641326904 validation avg throughput: 11490.428487403222\n",
      "batch 2000, validation avg time: 0.0007527005672454834 validation avg throughput: 13285.4955013454\n",
      "Epoch 0: validation data loss: 3.053236712088565e-05, training data loss: 0.0002552136978578951\n",
      "Time for epoch[s]: 9.338724613189697\n",
      "batch 1000, train avg time: 0.0018810908794403077 train avg throughput: 5316.0642631872\n",
      "batch 2000, train avg time: 0.0018779504299163818 train avg throughput: 5324.954184464424\n",
      "batch 3000, train avg time: 0.0018834633827209473 train avg throughput: 5309.367886703212\n",
      "training time: 7.102313041687012\n",
      "batch 1000, validation avg time: 0.0007512955665588378 validation avg throughput: 13310.340756838272\n",
      "batch 2000, validation avg time: 0.0007808454036712647 validation avg throughput: 12806.632341028664\n",
      "Epoch 1: validation data loss: 3.0242111344601277e-05, training data loss: 2.5708863546637364e-05\n",
      "Time for epoch[s]: 9.177591323852539\n",
      "batch 1000, train avg time: 0.001878612756729126 train avg throughput: 5323.076809832332\n",
      "batch 2000, train avg time: 0.0018817322254180908 train avg throughput: 5314.252402611726\n",
      "batch 3000, train avg time: 0.0018239939212799073 train avg throughput: 5482.4744114185105\n",
      "training time: 7.057290315628052\n",
      "batch 1000, validation avg time: 0.0008222842216491699 validation avg throughput: 12161.245147017464\n",
      "batch 2000, validation avg time: 0.0006861541271209716 validation avg throughput: 14573.985063616707\n",
      "Epoch 2: validation data loss: 2.833935868529211e-05, training data loss: 2.4062876487225695e-05\n",
      "Time for epoch[s]: 9.05843448638916\n",
      "batch 1000, train avg time: 0.0018734648227691651 train avg throughput: 5337.703637914598\n",
      "batch 2000, train avg time: 0.001880526065826416 train avg throughput: 5317.660936332409\n",
      "batch 3000, train avg time: 0.002013606071472168 train avg throughput: 4966.21466416661\n",
      "training time: 7.200056791305542\n",
      "batch 1000, validation avg time: 0.0007882540225982666 validation avg throughput: 12686.265738343713\n",
      "batch 2000, validation avg time: 0.0009169080257415772 validation avg throughput: 10906.219292728076\n",
      "Epoch 3: validation data loss: 2.7525868571069307e-05, training data loss: 2.2554237785032544e-05\n",
      "Time for epoch[s]: 9.462874412536621\n",
      "batch 1000, train avg time: 0.0019799814224243165 train avg throughput: 5050.5524378889695\n",
      "batch 2000, train avg time: 0.0019725399017333986 train avg throughput: 5069.605938623778\n",
      "batch 3000, train avg time: 0.002003612756729126 train avg throughput: 4990.984393773217\n",
      "training time: 7.447248458862305\n",
      "batch 1000, validation avg time: 0.0008552062511444092 validation avg throughput: 11693.085716595646\n",
      "batch 2000, validation avg time: 0.000810788631439209 validation avg throughput: 12333.670715448083\n",
      "Epoch 4: validation data loss: 2.6263579821559688e-05, training data loss: 2.1265688834177585e-05\n",
      "Time for epoch[s]: 9.683957815170288\n",
      "Final validation data loss:  2.6263579821559688e-05\n",
      "Final test data loss:  2.0773644662565655e-05\n"
     ]
    }
   ],
   "source": [
    "parameters.running.max_number_epochs = 5\n",
    "network = mala.Network(parameters)\n",
    "trainer = mala.Trainer(parameters, network, data_handler)\n",
    "trainer.train_network()"
   ]
  },
  {
   "cell_type": "markdown",
   "id": "da45a40e-9955-4d81-b7db-2cf5611137ea",
   "metadata": {},
   "source": [
    "We can test this by using the Tester class. The class works similar to the Trainer class. We add data, push them through the model, and then use the results to perform calculations.\n",
    "\n",
    "We just have to make sure that the LDOS is correctly integrated by setting the appropriate parameters. Then we can add data to test. We should always test on data different from the one we trained on. Also, we now have to specify the corresponding calculation output, since we may need this for integration."
   ]
  },
  {
   "cell_type": "code",
   "execution_count": 133,
   "id": "f562853f-c7e1-433c-afa8-f63b987e1df9",
   "metadata": {},
   "outputs": [
    {
     "name": "stdout",
     "output_type": "stream",
     "text": [
      "Checking the snapshots and your inputs for consistency.\n",
      "Checking descriptor file  Be_snapshot1.in.npy at C:\\Users\\Pablo\\Documents\\Fisica\\Master\\Simulacion Materiales\\content\\Data_Gen\\Be\\snapshots\n",
      "Checking targets file  Be_snapshot1.out.npy at C:\\Users\\Pablo\\Documents\\Fisica\\Master\\Simulacion Materiales\\content\\Data_Gen\\Be\\snapshots\n",
      "Checking descriptor file  Be_snapshot3.in.npy at C:\\Users\\Pablo\\Documents\\Fisica\\Master\\Simulacion Materiales\\content\\Data_Gen\\Be\\snapshots\n",
      "Checking targets file  Be_snapshot3.out.npy at C:\\Users\\Pablo\\Documents\\Fisica\\Master\\Simulacion Materiales\\content\\Data_Gen\\Be\\snapshots\n",
      "Checking descriptor file  Be_snapshot6.in.npy at C:\\Users\\Pablo\\Documents\\Fisica\\Master\\Simulacion Materiales\\content\\Data_Gen\\Be\\snapshots\n",
      "Checking targets file  Be_snapshot6.out.npy at C:\\Users\\Pablo\\Documents\\Fisica\\Master\\Simulacion Materiales\\content\\Data_Gen\\Be\\snapshots\n",
      "Checking descriptor file  Be_snapshot8.in.npy at C:\\Users\\Pablo\\Documents\\Fisica\\Master\\Simulacion Materiales\\content\\Data_Gen\\Be\\snapshots\n",
      "Checking targets file  Be_snapshot8.out.npy at C:\\Users\\Pablo\\Documents\\Fisica\\Master\\Simulacion Materiales\\content\\Data_Gen\\Be\\snapshots\n",
      "Checking descriptor file  Be_snapshot2.in.npy at C:\\Users\\Pablo\\Documents\\Fisica\\Master\\Simulacion Materiales\\content\\Data_Gen\\Be\\snapshots\n",
      "Checking targets file  Be_snapshot2.out.npy at C:\\Users\\Pablo\\Documents\\Fisica\\Master\\Simulacion Materiales\\content\\Data_Gen\\Be\\snapshots\n",
      "Checking descriptor file  Be_snapshot4.in.npy at C:\\Users\\Pablo\\Documents\\Fisica\\Master\\Simulacion Materiales\\content\\Data_Gen\\Be\\snapshots\n",
      "Checking targets file  Be_snapshot4.out.npy at C:\\Users\\Pablo\\Documents\\Fisica\\Master\\Simulacion Materiales\\content\\Data_Gen\\Be\\snapshots\n",
      "Checking descriptor file  Be_snapshot7.in.npy at C:\\Users\\Pablo\\Documents\\Fisica\\Master\\Simulacion Materiales\\content\\Data_Gen\\Be\\snapshots\n",
      "Checking targets file  Be_snapshot7.out.npy at C:\\Users\\Pablo\\Documents\\Fisica\\Master\\Simulacion Materiales\\content\\Data_Gen\\Be\\snapshots\n",
      "Checking descriptor file  Be_snapshot5.in.npy at C:\\Users\\Pablo\\Documents\\Fisica\\Master\\Simulacion Materiales\\content\\Data_Gen\\Be\\snapshots\n",
      "Checking targets file  Be_snapshot5.out.npy at C:\\Users\\Pablo\\Documents\\Fisica\\Master\\Simulacion Materiales\\content\\Data_Gen\\Be\\snapshots\n"
     ]
    },
    {
     "ename": "Exception",
     "evalue": "Cannot split snapshots with specified splitting scheme, too few or too many options selected",
     "output_type": "error",
     "traceback": [
      "\u001b[1;31m---------------------------------------------------------------------------\u001b[0m",
      "\u001b[1;31mException\u001b[0m                                 Traceback (most recent call last)",
      "Cell \u001b[1;32mIn[133], line 9\u001b[0m\n\u001b[0;32m      1\u001b[0m \u001b[38;5;124;03m\"\"\"data_handler.clear_data()\u001b[39;00m\n\u001b[0;32m      2\u001b[0m \u001b[38;5;124;03mfor i in range(1, maxiter + 1):\u001b[39;00m\n\u001b[0;32m      3\u001b[0m \u001b[38;5;124;03m    if i in test_data:\u001b[39;00m\n\u001b[1;32m   (...)\u001b[0m\n\u001b[0;32m      7\u001b[0m \n\u001b[0;32m      8\u001b[0m \u001b[38;5;124;03m\"\"\"\u001b[39;00m\n\u001b[1;32m----> 9\u001b[0m data_handler\u001b[38;5;241m.\u001b[39mprepare_data(reparametrize_scaler\u001b[38;5;241m=\u001b[39m\u001b[38;5;28;01mFalse\u001b[39;00m)\n\u001b[0;32m     10\u001b[0m tester \u001b[38;5;241m=\u001b[39m mala\u001b[38;5;241m.\u001b[39mTester(parameters, network, data_handler, observables_to_test\u001b[38;5;241m=\u001b[39m[\u001b[38;5;124m\"\u001b[39m\u001b[38;5;124mband_energy\u001b[39m\u001b[38;5;124m\"\u001b[39m])\n\u001b[0;32m     12\u001b[0m results \u001b[38;5;241m=\u001b[39m tester\u001b[38;5;241m.\u001b[39mtest_all_snapshots()\n",
      "File \u001b[1;32m~\\mala\\mala\\datahandling\\data_handler.py:169\u001b[0m, in \u001b[0;36mDataHandler.prepare_data\u001b[1;34m(self, reparametrize_scaler)\u001b[0m\n\u001b[0;32m    162\u001b[0m \u001b[38;5;66;03m# Do a consistency check of the snapshots so that we don't run into\u001b[39;00m\n\u001b[0;32m    163\u001b[0m \u001b[38;5;66;03m# an error later. If there is an error, check_snapshots() will raise\u001b[39;00m\n\u001b[0;32m    164\u001b[0m \u001b[38;5;66;03m# an exception.\u001b[39;00m\n\u001b[0;32m    165\u001b[0m printout(\n\u001b[0;32m    166\u001b[0m     \u001b[38;5;124m\"\u001b[39m\u001b[38;5;124mChecking the snapshots and your inputs for consistency.\u001b[39m\u001b[38;5;124m\"\u001b[39m,\n\u001b[0;32m    167\u001b[0m     min_verbosity\u001b[38;5;241m=\u001b[39m\u001b[38;5;241m1\u001b[39m,\n\u001b[0;32m    168\u001b[0m )\n\u001b[1;32m--> 169\u001b[0m \u001b[38;5;28mself\u001b[39m\u001b[38;5;241m.\u001b[39m_check_snapshots()\n\u001b[0;32m    170\u001b[0m printout(\u001b[38;5;124m\"\u001b[39m\u001b[38;5;124mConsistency check successful.\u001b[39m\u001b[38;5;124m\"\u001b[39m, min_verbosity\u001b[38;5;241m=\u001b[39m\u001b[38;5;241m0\u001b[39m)\n\u001b[0;32m    172\u001b[0m \u001b[38;5;66;03m# If the DataHandler is used for inference, i.e. no training or\u001b[39;00m\n\u001b[0;32m    173\u001b[0m \u001b[38;5;66;03m# validation snapshots have been provided,\u001b[39;00m\n\u001b[0;32m    174\u001b[0m \u001b[38;5;66;03m# than we can definitely not reparametrize the DataScalers.\u001b[39;00m\n",
      "File \u001b[1;32m~\\mala\\mala\\datahandling\\data_handler.py:444\u001b[0m, in \u001b[0;36mDataHandler._check_snapshots\u001b[1;34m(self)\u001b[0m\n\u001b[0;32m    438\u001b[0m nr_of_snapshots \u001b[38;5;241m=\u001b[39m \u001b[38;5;28mlen\u001b[39m(\u001b[38;5;28mself\u001b[39m\u001b[38;5;241m.\u001b[39mparameters\u001b[38;5;241m.\u001b[39msnapshot_directories_list)\n\u001b[0;32m    439\u001b[0m \u001b[38;5;28;01mif\u001b[39;00m nr_of_snapshots \u001b[38;5;241m!=\u001b[39m (\n\u001b[0;32m    440\u001b[0m     \u001b[38;5;28mself\u001b[39m\u001b[38;5;241m.\u001b[39mnr_training_snapshots\n\u001b[0;32m    441\u001b[0m     \u001b[38;5;241m+\u001b[39m \u001b[38;5;28mself\u001b[39m\u001b[38;5;241m.\u001b[39mnr_test_snapshots\n\u001b[0;32m    442\u001b[0m     \u001b[38;5;241m+\u001b[39m \u001b[38;5;28mself\u001b[39m\u001b[38;5;241m.\u001b[39mnr_validation_snapshots\n\u001b[0;32m    443\u001b[0m ):\n\u001b[1;32m--> 444\u001b[0m     \u001b[38;5;28;01mraise\u001b[39;00m \u001b[38;5;167;01mException\u001b[39;00m(\n\u001b[0;32m    445\u001b[0m         \u001b[38;5;124m\"\u001b[39m\u001b[38;5;124mCannot split snapshots with specified \u001b[39m\u001b[38;5;124m\"\u001b[39m\n\u001b[0;32m    446\u001b[0m         \u001b[38;5;124m\"\u001b[39m\u001b[38;5;124msplitting scheme, \u001b[39m\u001b[38;5;124m\"\u001b[39m\n\u001b[0;32m    447\u001b[0m         \u001b[38;5;124m\"\u001b[39m\u001b[38;5;124mtoo few or too many options selected\u001b[39m\u001b[38;5;124m\"\u001b[39m\n\u001b[0;32m    448\u001b[0m     )\n\u001b[0;32m    449\u001b[0m \u001b[38;5;66;03m# MALA can either be run in training or test-only mode.\u001b[39;00m\n\u001b[0;32m    450\u001b[0m \u001b[38;5;66;03m# But it has to be run in either of those!\u001b[39;00m\n\u001b[0;32m    451\u001b[0m \u001b[38;5;66;03m# So either training AND validation snapshots can be provided\u001b[39;00m\n\u001b[0;32m    452\u001b[0m \u001b[38;5;66;03m# OR only test snapshots.\u001b[39;00m\n\u001b[0;32m    453\u001b[0m \u001b[38;5;28;01mif\u001b[39;00m \u001b[38;5;28mself\u001b[39m\u001b[38;5;241m.\u001b[39mnr_test_snapshots \u001b[38;5;241m!=\u001b[39m \u001b[38;5;241m0\u001b[39m:\n",
      "\u001b[1;31mException\u001b[0m: Cannot split snapshots with specified splitting scheme, too few or too many options selected"
     ]
    }
   ],
   "source": [
    "\"\"\"data_handler.clear_data()\n",
    "for i in range(1, maxiter + 1):\n",
    "    if i in test_data:\n",
    "        data_handler.add_snapshot(f\"Be_snapshot{i}.in.npy\", snapshot_path,\n",
    "                              f\"Be_snapshot{i}.out.npy\", snapshot_path, \"te\",\n",
    "                                  calculation_output_file=pj(data_path, f\"Be{i}.pw.out\"))\n",
    "\n",
    "\"\"\"\n",
    "data_handler.prepare_data(reparametrize_scaler=False)\n",
    "tester = mala.Tester(parameters, network, data_handler, observables_to_test=[\"band_energy\"])\n",
    "\n",
    "results = tester.test_all_snapshots()\n"
   ]
  },
  {
   "cell_type": "markdown",
   "id": "62328788-05a2-4e2c-a3cc-be252147edd8",
   "metadata": {},
   "source": [
    "The results are given as a dictionary and in the units of meV/atom.The results are given as a dictionary and in the units of meV/atom."
   ]
  },
  {
   "cell_type": "code",
   "execution_count": null,
   "id": "3946a798-e4da-4e74-8cba-477af3851a28",
   "metadata": {},
   "outputs": [],
   "source": [
    "results"
   ]
  },
  {
   "cell_type": "code",
   "execution_count": null,
   "id": "323f9975-89e2-4c0e-8433-b4e480483925",
   "metadata": {},
   "outputs": [],
   "source": [
    "parameters.network.layer_sizes = [1000]\n"
   ]
  }
 ],
 "metadata": {
  "kernelspec": {
   "display_name": "Python 3 (ipykernel)",
   "language": "python",
   "name": "python3"
  },
  "language_info": {
   "codemirror_mode": {
    "name": "ipython",
    "version": 3
   },
   "file_extension": ".py",
   "mimetype": "text/x-python",
   "name": "python",
   "nbconvert_exporter": "python",
   "pygments_lexer": "ipython3",
   "version": "3.12.3"
  }
 },
 "nbformat": 4,
 "nbformat_minor": 5
}
